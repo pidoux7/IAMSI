{
 "cells": [
  {
   "cell_type": "markdown",
   "metadata": {},
   "source": [
    "IAMSI -- 2022-2023\n",
    "--------\n",
    "*&copy; Equipe pédagogique : Gauvain Bourgne, Jean-Gabriel Ganascia, Marie-Jeanne Lesot, Christophe Marsala, Nicolas Maudet.*"
   ]
  },
  {
   "cell_type": "markdown",
   "metadata": {},
   "source": [
    "# TME 1 et 2 : Jeu à 2 joueurs -  Programmation d'un joueur d'Awélé"
   ]
  },
  {
   "cell_type": "markdown",
   "metadata": {},
   "source": [
    "<font color=\"RED\" size=\"+1\">**[Q]**</font> **Indiquer dans la boîte ci-dessous vos noms et prénoms**"
   ]
  },
  {
   "cell_type": "markdown",
   "metadata": {},
   "source": [
    "- Guillaume FAURE\n",
    "\n",
    "- Mathis KOROGLU"
   ]
  },
  {
   "cell_type": "markdown",
   "metadata": {},
   "source": [
    "<font color=\"RED\" size=\"+1\">**[Q]**</font> **Renommer ce fichier ipython**\n",
    "\n",
    "Tout en haut de cette page, cliquer sur <tt>tme01et02</tt> et rajouter à la suite de <tt>tme01et02</tt> les noms des membres du binômes séparés par un tiret.\n",
    "\n",
    "Par exemple, pour le binôme Luke Skywalker et Han Solo, le nom de fichier devient : <pre>tme01et02-Skywalker-Solo</pre>\n",
    "\n",
    "Penser à sauvegarder fréquemment le fichier en cours de travail :\n",
    "- soit en cliquant sur l'icône \"disquette\"\n",
    "- soit par la combinaison de touches [Ctrl]-S"
   ]
  },
  {
   "cell_type": "markdown",
   "metadata": {},
   "source": [
    "## Présentation"
   ]
  },
  {
   "cell_type": "markdown",
   "metadata": {},
   "source": [
    "### Objectifs des TME 1 et 2\n",
    "\n",
    "Le travail à réaliser est le suivant : programmer en Python un joueur artificiel d'Awélé. Il peut être utile de commencer par prendre connaissance des règles du jeu fournies en annexe à la fin de cette page.\n",
    "  \n",
    "*A noter* :  Il est autorisé d'écrire des fonctions auxiliaires permettant de simplifier l'écriture\n",
    "  de la fonction répondant à une question. Dans ce cas, ces fonctions doivent être dûment commentées et spécifiées.\n",
    "  "
   ]
  },
  {
   "cell_type": "markdown",
   "metadata": {},
   "source": [
    "#### Compte-rendu des séances de TME 1 et 2\n",
    "\n",
    "Le fichier ipython que vous remplissez ici fait office de compte-rendu pour ces 2 séances de TME.\n",
    "\n",
    "Il y a 2 soumissions à faire **obligatoirement** sur le site Moodle :\n",
    "- 1er compte-rendu : <font color=\"RED\">à l'issue de la première séance</font>, soumettre ce qui a été réalisé lors de la séance.\n",
    "- 2e compte-rendu : <font color=\"RED\">à l'issue de la deuxième séance</font>, soumettre la version finale du travail réalisé durant les 2 séances.\n",
    "\n",
    "Votre compte-rendu a la forme d'un unique fichier ipynb (ce fichier-ci complété, NON ZIPPE).\n"
   ]
  },
  {
   "cell_type": "markdown",
   "metadata": {},
   "source": [
    "### Grille de notation\n",
    "\n",
    "Le barème (indicatif) pour la notation de ce TME est le suivant :\n",
    "- implémentation correcte et effective du minimax : 9 sur 20\n",
    "- implémentation correcte et effective de l'alpha-bêta : 14 sur 20\n",
    "- implémentation d'améliorations ou d'extensions (``pour aller plus loin...'') : +0 à +3 points\n",
    "- programme commenté : -1 à +1 points\n",
    "- efficacité des fonctions :  -1 à +2 points\n",
    "\n",
    "La note finale ne dépassera pas 20."
   ]
  },
  {
   "cell_type": "markdown",
   "metadata": {},
   "source": [
    "## Apprendre à utiliser ipython notebook\n",
    "\n",
    "Ce document est dynamique: il est composé de \"boîtes\" qui peuvent être \"compilées\" par la commande \"Run Cells\" du menu \"Cell\" (ou bien en cliquant sur l'icône >| ou par la combinaison des touches [SHIFT][ENTREE]).\n",
    "\n",
    "Il y a **2 types principaux** de boîtes :\n",
    "- les boîtes \"Markdown\": tout ce qui est tapé dans ces boîtes est du texte qui sera rendu \"joliment\" après avoir été compilé. On peut y écrire des commandes en Latex pour définir des équations, et il reconnaît certaines balises HTML. En cliquant 2 fois dans une boîte Markdown compilée, on a accès à son contenu et on peut alors le modifier.\n",
    "- les boîtes \"Code\": dans ces boîtes, on écrit du code Python. La compilation de la boîte produit l'exécution de ce code Python et produit une boîte \"Out\" dans laquelle le résultat de la dernière commande est affiché. On peut y écrire tout code Python valide. Ce type de boîtes se reconnaît par \"In [n]\" inscrit à côté de leur coin haut gauche (\"n\" est un entier).\n",
    "\n",
    "Le type d'une boîte peut être modifié à l'aide du menu en haut de la page (juste au dessus du texte).\n",
    "\n",
    "L'icône \"+\" permet de créer une nouvelle boîte juste en dessous de la boîte active.\n",
    "\n",
    "L'icône avec les ciseaux permet d'effacer la boîte active (attention ! c'est **irréversible !**).\n",
    "\n",
    "Pour en savoir plus :\n",
    "- http://ipython.org/\n",
    "\n",
    "Vous pouvez aussi vous référer à la documentation Python:\n",
    "- https://www.python.org/\n",
    "\n",
    "\n",
    "Dans ce qui suit, les boîtes Markdown commençant par <font color=\"RED\" size=\"+1\">**[Q]**</font> posent des questions auxquelles il faut répondre dans la boîte qui suit directement (éventuellement, en créant des plusieurs nouvelles boîtes).\n",
    "Certaines des boîtes \"Code\" à remplir sont suivies d'une sortie \"Out[.]:\" qui montre un exemple de résultat attendu."
   ]
  },
  {
   "cell_type": "code",
   "execution_count": 1,
   "metadata": {
    "tags": []
   },
   "outputs": [
    {
     "name": "stdout",
     "output_type": "stream",
     "text": [
      "Un essai quelconque :\n"
     ]
    },
    {
     "data": {
      "text/plain": "5"
     },
     "execution_count": 1,
     "metadata": {},
     "output_type": "execute_result"
    }
   ],
   "source": [
    "# exemple de boîte de code :\n",
    "#    --> sélectionner cette boîte (en cliquant à l'intérieur)\n",
    "#    --> effectuer \"Run Cells\" du Menu \"Cell\" (ou bien cliquer sur l'icône >|)\n",
    "# \n",
    "\n",
    "print(\"Un essai quelconque :\")\n",
    "2+3"
   ]
  },
  {
   "cell_type": "markdown",
   "metadata": {},
   "source": [
    "<font color=\"RED\" size=\"+1\">**[Q]**</font> Dans la boîte \"Code\" suivante, donner les instructions Python pour effectuer le calcul : \n",
    "$$-\\frac{1}{3}\\log_2(\\frac{1}{3})-\\frac{2}{3}\\log_2(\\frac{2}{3})$$\n",
    "\n",
    "Dont la valeur à trouver est :\n",
    "    0.9182958340544896"
   ]
  },
  {
   "cell_type": "code",
   "execution_count": 2,
   "metadata": {
    "tags": []
   },
   "outputs": [
    {
     "data": {
      "text/plain": "0.9182958340544897"
     },
     "execution_count": 2,
     "metadata": {},
     "output_type": "execute_result"
    }
   ],
   "source": [
    "import math\n",
    "(1/3) * (-math.log2(1/3) - 2 * math.log2(2/3))"
   ]
  },
  {
   "cell_type": "markdown",
   "metadata": {},
   "source": [
    "**<font style=\"BACKGROUND-COLOR: lightgray\" color='red'> Important</font>** :\n",
    "en lisant ce texte sur votre ordinateur, pensez bien à exécuter les boîtes \"Code\" dans l'ordre de leur apparition. Toute la page se comporte comme une session Python unique et pour exécuter certaines boîtes il est nécessaire que les précédentes aient été exécutées au préalable."
   ]
  },
  {
   "cell_type": "markdown",
   "metadata": {},
   "source": [
    "Une fonction utile dans la suite est la fonction <tt>input</tt> qui permet de demander à l'entrée d'une valeur saisie au clavier."
   ]
  },
  {
   "cell_type": "code",
   "execution_count": 3,
   "metadata": {
    "tags": []
   },
   "outputs": [],
   "source": [
    "# Exemple d'utilisation de input():\n",
    "#annee_naissance = input(\"Entrer l\\'année de naissance :\")\n",
    "#print(\"Cela fait donc\", 2023 - int(annee_naissance), \"ans\")"
   ]
  },
  {
   "cell_type": "markdown",
   "metadata": {},
   "source": [
    "## Programmer un joueur d'Awélé\n",
    "\n",
    "Les règles de ce jeu sont rappelées à la fin de ce notebook."
   ]
  },
  {
   "cell_type": "markdown",
   "metadata": {},
   "source": [
    "### Structure de données"
   ]
  },
  {
   "cell_type": "markdown",
   "metadata": {},
   "source": [
    "Pour représenter une position d'Awélé en Python. Une *position* est définie par les éléments suivants :\n",
    "- une *dimension* qui correspond au nombre de colonnes (dans l'Awélé original, il y a 6 colonnes). On note $n$ ce nombre de colonnes dans la suite de ce texte ;\n",
    "- un *plateau* qui correspond au plateau de jeu et donne le nombre de graines dans chaque case ;\n",
    "- un *nombre* qui correspond au nombre total de graines sur le plateau au début du jeu (dépend du nombre de dimensions et du nombre de graines dans chaque case au départ) ;\n",
    "- le *trait* qui correspond au camp devant jouer dans la position donnée. Il y a\n",
    "  deux camps: \"NORD et \"SUD\" ;\n",
    "- le *gain* qui correspond au nombre de graines déjà ramassées par chacun des joueurs.\n",
    "\n",
    "En Python, on choisit de représenter une telle position sous la forme d'un dictionnaire qui associe à chaque nom de champ sa valeur.\n",
    "\n",
    "        # Représentation Python d'une position du jeu d'Awélé:\n",
    "        position = dict()       # initialisation\n",
    "        position['plateau']     # les cases du jeu (voir ci-dessous)\n",
    "        position['dimension']   # le nombre de colonnes du plateau\n",
    "        position['nb_total']    # nombre de graines total au début du jeu sur tout le plateau\n",
    "        position['trait']       # le joueur qui doit jouer: 'SUD' ou 'NORD'\n",
    "        position['gain']        # les graines prises par chaque joueur sous la forme : {'SUD':0, 'NORD':0}\n"
   ]
  },
  {
   "cell_type": "markdown",
   "metadata": {},
   "source": [
    "Dans ce qui suit, on distingue :\n",
    "- un coup *correct* qui correspond à un numéro de colonne correct (valeur comprise entre 1 et $n$), et pour lequel la case correspondante contient au moins une graine;\n",
    "- un coup *autorisé* qui est un coup à la fois correct et permettant d'atteindre une position légale du jeu, c'est-à-dire une position qui respecte la règle obligeant à laisser au moins une graine dans le camp de son adversaire."
   ]
  },
  {
   "cell_type": "markdown",
   "metadata": {},
   "source": [
    "### Représentation du plateau de jeu en Python \n",
    "\n",
    "\n",
    "Pour représenter le plateau en Python, on utilise une liste d'entiers, chaque entier correspondant au nombre de graines dans une case. \n",
    "\n",
    "Soit un plateau de jeu de $n$ colonnes.\n",
    "\n",
    "Pour le camp SUD :\n",
    "- le nombre de graines de la case de la colonne 1 est stocké en position $0$ dans la liste Python ;\n",
    "- le nombre de graines de la case de la colonne  2 est stocké en position $1$ dans la liste Python ;\n",
    "- ...\n",
    "- le nombre de graines de la case de la colonne  $n$ est stocké en position $n-1$ dans la liste Python.\n",
    "\n",
    "Pour le camp NORD :\n",
    "- le nombre de graines de la case de la colonne  1 est stocké en position $2n-1$ dans la liste Python ;\n",
    "- le nombre de graines de la case de la colonne  2 est stocké en position $2n-2$ dans la liste Python ;\n",
    "- ...\n",
    "- le nombre de graines de la case de la colonne  $n$ est stocké en position $n$ dans la liste Python.\n",
    "\n",
    "Cette représentation à l'avantage de favoriser le parcours des cases du plateau : en parcourant la liste par positions croissantes, on retrouve le parcours en sens inverse des aiguilles d'une montre. Ce parcours peut alors se faire en Python en incrémentant de 1 la position pour passer à la case suivante, et en réalisant un calcul modulo $2n$."
   ]
  },
  {
   "cell_type": "markdown",
   "metadata": {},
   "source": [
    "### Package IAMSI et fonctions fournies\n",
    "\n",
    "Le package IAMSI fournie avec ce sujet doit être placée dans le même répertoire que ce notebook.\n",
    "Elle contient la librairie de fonctions de nom <i>awele</i> qui fournit plusieurs fonctions que vous pourrez utiliser:\n",
    "- <tt>position_initiale(n, nb_graines)</tt> : qui définit la position initiale du jeu. Les arguments sont des entiers : <tt>n</tt> donne le nombre de colonnes du plateau du jeu, et <tt>nb_graines</tt> donne le nombre de graines à mettre dans chaque case (par défaut, cet argument vaut 4);\n",
    "- <tt>affichage(position)</tt> : affichage de façon textuelle d'une position ;\n",
    "- <tt>duplique(position)</tt> : recopie d'une position en la dupliquant pour pouvoir y apporter des modifications sans altérer la position originale ;\n",
    "- <tt>joue_un_coup(position,coup)</tt> : renvoie la position obtenue une fois le coup joué dans la position donnée. **Important:** Cette fonction fait l'hypothèse que le coup donné est un coup correct et elle ne vérifie donc pas que la position résultante est bien une position légale du jeu (cela se fait par ailleurs).\n",
    "\n",
    "\n",
    "*Remarque:* il est nécessaire d'importer la librairie et pour utiliser ces fonctions, il faudra préfixer leur nom par le nom d'importation de a librairie."
   ]
  },
  {
   "cell_type": "code",
   "execution_count": 4,
   "metadata": {
    "tags": []
   },
   "outputs": [],
   "source": [
    "# Importation de la librairie awele:\n",
    "# La ligne suivante permet de préciser le chemin d'accès à la librairie awele\n",
    "import sys\n",
    "sys.path.append('../')\n",
    "\n",
    "from IAMSI import awele as aw"
   ]
  },
  {
   "cell_type": "markdown",
   "metadata": {},
   "source": [
    "Les instructions qui suivent permettent de voir comment utiliser les fonctions fournies."
   ]
  },
  {
   "cell_type": "code",
   "execution_count": 5,
   "metadata": {
    "tags": []
   },
   "outputs": [
    {
     "name": "stdout",
     "output_type": "stream",
     "text": [
      "* * * * * * * * * * * * * * * * * * * *\n",
      "\t\tNORD (prises: 0)\n",
      "< - - - - - - - - - - - - - - -\n",
      "colonnes:\t 1 \t 2 \t 3 \t 4 \t 5 \t 6 \n",
      "        \t[4]\t[4]\t[4]\t[4]\t[4]\t[4]\n",
      "        \t[4]\t[4]\t[4]\t[4]\t[4]\t[4]\n",
      "colonnes:\t 1 \t 2 \t 3 \t 4 \t 5 \t 6 \n",
      "\n",
      "- - - - - - - - - - - - - - - >\n",
      "\t\tSUD (prises: 0)\n",
      "\n",
      "-> camp au trait: SUD\n",
      "\n",
      "Nombre de graines au total :  48\n",
      "* * * * * * * * * * * * * * * * * * * *\n",
      "\t\tNORD (prises: 2)\n",
      "< - - - - - - - - - - - - - - -\n",
      "colonnes:\t 1 \t 2 \t 3 \t 4 \t 5 \t 6 \n",
      "        \t[0]\t[1]\t[7]\t[2]\t[7]\t[7]\n",
      "        \t[1]\t[1]\t[1]\t[9]\t[0]\t[7]\n",
      "colonnes:\t 1 \t 2 \t 3 \t 4 \t 5 \t 6 \n",
      "\n",
      "- - - - - - - - - - - - - - - >\n",
      "\t\tSUD (prises: 3)\n",
      "\n",
      "-> camp au trait: NORD\n",
      "\n",
      "#######################################\n",
      "Partie sur un tablier réduit pour tester :\n",
      "* * * * * * * * * * * * * * * * * * * *\n",
      "\t\tNORD (prises: 0)\n",
      "< - - - - - - - - - - - - - - -\n",
      "colonnes:\t 1 \t 2 \t 3 \n",
      "        \t[2]\t[2]\t[2]\n",
      "        \t[2]\t[2]\t[2]\n",
      "colonnes:\t 1 \t 2 \t 3 \n",
      "\n",
      "- - - - - - - - - - - - - - - >\n",
      "\t\tSUD (prises: 0)\n",
      "\n",
      "-> camp au trait: SUD\n",
      "\n",
      "* * * * * * * * * * * * * * * * * * * *\n",
      "\t\tNORD (prises: 2)\n",
      "< - - - - - - - - - - - - - - -\n",
      "colonnes:\t 1 \t 2 \t 3 \n",
      "        \t[0]\t[4]\t[0]\n",
      "        \t[1]\t[5]\t[0]\n",
      "colonnes:\t 1 \t 2 \t 3 \n",
      "\n",
      "- - - - - - - - - - - - - - - >\n",
      "\t\tSUD (prises: 0)\n",
      "\n",
      "-> camp au trait: SUD\n",
      "\n",
      "#######################################\n",
      "Essai de prises:\n",
      "* * * * * * * * * * * * * * * * * * * *\n",
      "\t\tNORD (prises: 0)\n",
      "< - - - - - - - - - - - - - - -\n",
      "colonnes:\t 1 \t 2 \t 3 \t 4 \t 5 \t 6 \n",
      "        \t[4]\t[4]\t[4]\t[4]\t[4]\t[4]\n",
      "        \t[4]\t[4]\t[4]\t[4]\t[4]\t[4]\n",
      "colonnes:\t 1 \t 2 \t 3 \t 4 \t 5 \t 6 \n",
      "\n",
      "- - - - - - - - - - - - - - - >\n",
      "\t\tSUD (prises: 0)\n",
      "\n",
      "-> camp au trait: SUD\n",
      "\n",
      "* * * * * * * * * * * * * * * * * * * *\n",
      "\t\tNORD (prises: 0)\n",
      "< - - - - - - - - - - - - - - -\n",
      "colonnes:\t 1 \t 2 \t 3 \t 4 \t 5 \t 6 \n",
      "        \t[4]\t[4]\t[4]\t[5]\t[5]\t[5]\n",
      "        \t[4]\t[4]\t[4]\t[4]\t[0]\t[5]\n",
      "colonnes:\t 1 \t 2 \t 3 \t 4 \t 5 \t 6 \n",
      "\n",
      "- - - - - - - - - - - - - - - >\n",
      "\t\tSUD (prises: 0)\n",
      "\n",
      "-> camp au trait: NORD\n",
      "\n"
     ]
    }
   ],
   "source": [
    "# ------------------------- POUR VOIR COMMENT CA MARCHE :\n",
    "maPosition = aw.position_initiale(6)\n",
    "aw.affichage(maPosition)\n",
    "print(\"Nombre de graines au total : \", maPosition['nb_total'])\n",
    "\n",
    "maPosition2 = aw.joue_un_coup(maPosition, 1) # SUD joue\n",
    "maPosition2 = aw.joue_un_coup(maPosition2, 1) # NORD joue\n",
    "maPosition2 = aw.joue_un_coup(maPosition2, 2) # SUD joue\n",
    "maPosition2 = aw.joue_un_coup(maPosition2, 4) # NORD joue\n",
    "maPosition2 = aw.joue_un_coup(maPosition2, 3) # SUD joue\n",
    "maPosition2 = aw.joue_un_coup(maPosition2, 2) # NORD joue\n",
    "maPosition2 = aw.joue_un_coup(maPosition2, 5) # SUD joue\n",
    "aw.affichage(maPosition2)\n",
    "print(\"#######################################\\nPartie sur un tablier réduit pour tester :\")\n",
    "maPosition = aw.position_initiale(3, 2)\n",
    "aw.affichage(maPosition)\n",
    "maPosition2 = aw.joue_un_coup(maPosition, 1) # SUD joue\n",
    "maPosition2 = aw.joue_un_coup(maPosition2, 1) # NORD joue\n",
    "maPosition2 = aw.joue_un_coup(maPosition2, 3) # SUD joue\n",
    "maPosition2 = aw.joue_un_coup(maPosition2, 3) # NORD joue\n",
    "maPosition2 = aw.joue_un_coup(maPosition2, 1) # SUD joue\n",
    "maPosition2 = aw.joue_un_coup(maPosition2, 1) # NORD joue\n",
    "aw.affichage(maPosition2)\n",
    "print(\"#######################################\\nEssai de prises:\")\n",
    "maPosition = aw.position_initiale(6)\n",
    "maPosition['tablier'] = [1, 2, 3, 4, 5, 1, 2, 2, 2, 2, 2, 2]\n",
    "aw.affichage(maPosition)\n",
    "maPosition2 = aw.joue_un_coup(maPosition, 5) # SUD joue\n",
    "aw.affichage(maPosition2)\n",
    "# ------------------------- FIN TEST"
   ]
  },
  {
   "cell_type": "markdown",
   "metadata": {},
   "source": [
    "### Fonctions simples\n",
    "\n",
    "Les fonctions que vous allez écrire dans la suite seront mises directement dans ce notebook (pas dans la librairie)."
   ]
  },
  {
   "cell_type": "markdown",
   "metadata": {},
   "source": [
    "<font color=\"RED\" size=\"+1\">**[Q]**</font> Ecrire les fonctions suivantes :\n",
    "- <tt>est_correct(position,nombre)</tt>: rend le booléen <tt>True</tt> si le nombre donné peut être un coup correct dans la position donnée, c'est-à-dire si ce nombre est un entier compris entre 1\n",
    "  et <tt>n</tt> et si de plus la case correspondante du plateau (pour le camp qui doit donc jouer\n",
    "  dans la position) contient au moins une graine.\n",
    "- <tt>est_legale(position)</tt>: rend le booléen <tt>True</tt> si la position donnée est légale, c'est-à-dire si le camp qui doit jouer possède au moins une graine dans son camp.\n",
    "- <tt>effectue_si_valide(position,coup)</tt>: rend la nouvelle position obtenue en jouant <tt>coup</tt>\n",
    "  dans la position donnée. Cette fonction retourne le booléen <tt>False</tt> si le coup\n",
    "  n'est pas correct ou si la position résultante n'est pas une position légale du jeu.\n",
    "- <tt>est_terminale(position)</tt>: rend le booléen <tt>True</tt> si la position est\n",
    "  terminale, c'est-à-dire si aucun coup n'est correct, ou si tout coup correct ne permet\n",
    "  pas d'atteindre une position légale ou bien si l'un des deux joueurs a gagné un nombre de graines suffisant. Dans le jeu Awélé original à 6 colonnes, la position est gagnée dès qu'un camp a remporté 25 graines. Ce qui correspond à $6*4+1$ graines. Ce nombre de graines nécessaire pour remporter la victoire dépend donc de la taille du plateau de jeu.\n"
   ]
  },
  {
   "cell_type": "code",
   "execution_count": 6,
   "metadata": {
    "tags": []
   },
   "outputs": [],
   "source": [
    "def est_correct(position, nombre):\n",
    "    n = position['dimension']                         # le nombre de colonnes du plateau\n",
    "    joueur = position['trait']                        # le joueur qui doit jouer: 'SUD' ou 'NORD'\n",
    "    if nombre < 1 or nombre > n:                      # condition pour définir qu'un coup est correct\n",
    "        return False\n",
    "    if joueur == 'SUD':                               # condition en fonction du joueur => nouvelle position obtenue\n",
    "        return position['plateau'][nombre-1] > 0\n",
    "    elif joueur == 'NORD':\n",
    "        return position['plateau'][2*n - nombre] > 0"
   ]
  },
  {
   "cell_type": "code",
   "execution_count": 7,
   "metadata": {
    "tags": []
   },
   "outputs": [],
   "source": [
    "# dans la version officielle du jeu, on peut s'affamer soi même\n",
    "def est_legale(position):\n",
    "    n = position['dimension']                         # le nombre de colonnes du plateau\n",
    "    plateau = position['plateau']                     # les cases du jeu\n",
    "    trait = position['trait']\n",
    "    if trait == 'SUD':                                # le coup est joué par NORD donc trait au SUD après joue_un_coup\n",
    "        legal = any(i > 0 for i in plateau[:n])       # coup légal pour NORD si SUD possède au moins une graine dans son camp\n",
    "    if trait == 'NORD':                               # le coup est joué par SUD donc trait au NORD après joue_un_coup\n",
    "        legal = any(i > 0 for i in plateau[n:])       # coup légal pour NORD si SUD au moins une graine dans son camp\n",
    "    return legal"
   ]
  },
  {
   "cell_type": "code",
   "execution_count": 8,
   "metadata": {
    "tags": []
   },
   "outputs": [],
   "source": [
    "def effectue_si_valide(position, coup):\n",
    "    if not est_correct(position, coup):               # première condition pour definir la validité il faut d'abord que le coup soit correct\n",
    "        return False\n",
    "    next_position = aw.joue_un_coup(position, coup)   # deuxième condition est ce que le coup ne va pas affamer l'adversaire\n",
    "    if est_legale(next_position):\n",
    "        return next_position                          # si oui retourner la position suivante\n",
    "    else:\n",
    "        return False"
   ]
  },
  {
   "cell_type": "code",
   "execution_count": 9,
   "metadata": {
    "tags": []
   },
   "outputs": [],
   "source": [
    "def est_terminale(position):\n",
    "    n = position['dimension']                # le nombre de colonnes du plateau\n",
    "    joueur = position['trait']               # le joueur qui doit jouer: 'SUD' ou 'NORD'\n",
    "    if any(gain > position['nb_total'] / 2  for gain in position['gain'].values()):\n",
    "        return True                          # condition 1: si un des gains de 'SUD' ou 'NORD' supérieur à la limite (moitié du score total) alors terminale\n",
    "    for coup in range(1, n+1):               # ou condition 2: si aucun coup n'est correct et légal alors terminale\n",
    "        if est_correct(position, coup):\n",
    "            next_position = aw.joue_un_coup(position, coup)\n",
    "            if est_legale(next_position):\n",
    "                return False\n",
    "    return True"
   ]
  },
  {
   "cell_type": "markdown",
   "metadata": {},
   "source": [
    "### Moteur de jeu simple"
   ]
  },
  {
   "cell_type": "markdown",
   "metadata": {},
   "source": [
    "<font color=\"RED\" size=\"+1\">**[Q]**</font> Ecrire la fonction <tt>partie_humains(taille=6, nb_graines=4)</tt> permettant à deux joueurs humains de s'affronter dans une partie d'Awélé sur un plateau qui contient <tt>taille</tt> colonnes et <tt>nb_graines</tt> par case au départ.\n",
    "  Dans cette fonction, les joueurs entrent à tour de rôle leur coup à jouer. Après chaque coup, la position est affichée avec les gains de chaque joueur. Le jeu s'arrête lorsque une position terminale est atteinte et le programme affiche alors le nom du camp vainqueur.\n",
    "  Durant la partie, les coups sont donnés en utilisant la fonction <tt>input()</tt> de Python.\n",
    "  \n"
   ]
  },
  {
   "cell_type": "code",
   "execution_count": 10,
   "metadata": {
    "tags": []
   },
   "outputs": [],
   "source": [
    "# fonction de calcul du score final\n",
    "def score_final(position):\n",
    "    assert est_terminale(position)\n",
    "    seuil_gagnant = position['nb_total'] / 2     # calcul du seuil déterminant si un joueur a gagné\n",
    "\n",
    "    if position['gain']['SUD'] > seuil_gagnant:  # SUD a t il un score > au seuil\n",
    "        return 'SUD', position['gain']['SUD']\n",
    "    if position['gain']['NORD'] > seuil_gagnant: # NORD a t il un score > au seuil\n",
    "        return 'NORD', position['gain']['NORD']\n",
    "        # si aucun des 2 joueurs n'a un score > seuil alors terminale suite à l'absence de possibilité de coup\n",
    "    joueur_raflant = 'NORD' if position['trait'] == 'SUD' else 'SUD'  # toutes les graines restant sur le tablier sont capturées par l'adversaire\n",
    "    position['gain'][joueur_raflant] += sum(position['plateau'])      # ajout des gains\n",
    "    return max(position['gain'].items(), key=lambda k:k[1])           # choix du vainqueur"
   ]
  },
  {
   "cell_type": "code",
   "execution_count": 11,
   "metadata": {
    "collapsed": false,
    "jupyter": {
     "outputs_hidden": false
    },
    "tags": []
   },
   "outputs": [],
   "source": [
    "# wrapper pour les differentes types de parties suivantes\n",
    "# strategie_joueur et stratégie_adverse sont des fct passées en argument\n",
    "\n",
    "def jouer_partie(taille, nb_graines, camp_adverse, strategie_joueur, strategie_adverse):\n",
    "    #initialisation position intiale\n",
    "    position = aw.position_initiale(taille, nb_graines=nb_graines)\n",
    "    # boucle tant qu'on arrive pas à une position terminale\n",
    "    while not est_terminale(position):\n",
    "        # afficher après chaque coup la position sur le plateau\n",
    "        aw.affichage(position)\n",
    "        # jouer en fonction de la strategie utilisée cf plus loin\n",
    "        if position['trait'] == camp_adverse:\n",
    "            coup = strategie_adverse(position)   # definition du coup à jouer\n",
    "        else:\n",
    "            coup = strategie_joueur(position)    # definition du coup à jouer\n",
    "        position = aw.joue_un_coup(position, coup)      # coup effectivement joué\n",
    "\n",
    "    aw.affichage(position)\n",
    "\n",
    "    joueur, score = score_final(position)        # calcul du score final\n",
    "    print(f\"{joueur} a gagné avec un score de {score} graines\")  # affichage score final"
   ]
  },
  {
   "cell_type": "code",
   "execution_count": 12,
   "metadata": {
    "collapsed": false,
    "jupyter": {
     "outputs_hidden": false
    },
    "tags": []
   },
   "outputs": [],
   "source": [
    "def strategie_humaine(position):\n",
    "    # boite de dialogue pour indiquer la colonne du coup à jouer\n",
    "    coup = int(input(f\"Au tour du joueur humain {position['trait']} : \"))\n",
    "    valid = effectue_si_valide(position, coup)\n",
    "    # vérification de la validité du coup et boucle tant qu'il n'est pas valide\n",
    "    while not valid:\n",
    "        coup = int(input(f\"Coup non valide, réessayez : \"))\n",
    "        valid = effectue_si_valide(position, coup)\n",
    "    return coup"
   ]
  },
  {
   "cell_type": "code",
   "execution_count": 13,
   "metadata": {
    "tags": []
   },
   "outputs": [],
   "source": [
    "# partie humain contre humain\n",
    "def partie_humains(taille=6, nb_graines=4): #Arg: nb de case/joueur et nb de graine/case\n",
    "    jouer_partie(taille, nb_graines, 'SUD', strategie_humaine, strategie_humaine)"
   ]
  },
  {
   "cell_type": "markdown",
   "metadata": {},
   "source": [
    "<font color=\"RED\" size=\"+1\">**[Q]**</font> Ecrire la fonction <tt>genere_un_coup(position)</tt> qui retourne un coup autorisé pour la position donnée. Le coup est choisi de façon aléatoire parmi les coups possibles dans la position donnée. Cette fonction rend la valeur 0 si aucun coup n'est possible."
   ]
  },
  {
   "cell_type": "code",
   "execution_count": 14,
   "metadata": {},
   "outputs": [],
   "source": [
    "import random\n",
    "\n",
    "def genere_un_coup(position):\n",
    "    # liste de coups possible à jouer pour le CPU\n",
    "    next_position = [coup for coup in range(1, position['dimension']+1) if effectue_si_valide(position, coup)]\n",
    "    # si impossible retourner 0 sinon choix aléatoire parmis la liste des coups possibles\n",
    "    return 0 if not next_position else random.choice(next_position)"
   ]
  },
  {
   "cell_type": "markdown",
   "metadata": {},
   "source": [
    "<font color=\"RED\" size=\"+1\">**[Q]**</font> Ecrire la fonction <tt>partie_aleatoire(campCPU, taille=6, nb_graines=4)</tt> effectue_si_valideettant à un joueur humain de jouer contre l'ordinateur qui choisit alélist_next_positions coups. L'argument\n",
    "  <tt>campCPU</tt> donne le camp que doit gérer l'ordinateur (<tt>'SUD'</tt> ou <tt>'NORD'</tt>), l'argument <tt>taille</tt> est un entier strictement positif donnant le nombre de colonnes du plateau de jeu (par défaut 6 colonnes), et l'argument <tt>nb_graines</tt> donne le nombre de graines par case au départ (par défaut, 4 graines)."
   ]
  },
  {
   "cell_type": "code",
   "execution_count": 15,
   "metadata": {
    "tags": []
   },
   "outputs": [],
   "source": [
    "# partie humain contre CPU\n",
    "def partie_aleatoire(campCPU, taille=6, nb_graines=4):\n",
    "    jouer_partie(taille, nb_graines, campCPU, strategie_humaine, genere_un_coup)"
   ]
  },
  {
   "cell_type": "markdown",
   "metadata": {},
   "source": [
    "## Joueur artificiel simple"
   ]
  },
  {
   "cell_type": "markdown",
   "metadata": {},
   "source": [
    "On considère la fonction d'évaluation suivante de la position $P$ :\n",
    "$$f(P) =\n",
    "\\begin{cases}\n",
    "  \\begin{array}{ll}\n",
    "        +99      & \\mbox{si } P \\mbox{ est gagnée par sud} \\\\\n",
    "        -99      & \\mbox{si } P \\mbox{ est gagnée par nord} \\\\\n",
    "        (2f_g(P, \\mbox{sud}) + f_{12}(P, nord)) - (2f_g(P, nord) + f_{12}(P, sud))& \\mbox{sinon}\n",
    "   \\end{array}\n",
    "   \\end{cases}$$\n",
    "\n",
    "avec\n",
    "- $f_g(P,c)$ : nombre de graines déjà gagnées par le camp $c$ dans la position $P$\n",
    "- $f_{12}(P,c)$ : nombre de cases du camp $c$ contenant 1 ou 2 graines, dans la position $P$."
   ]
  },
  {
   "cell_type": "markdown",
   "metadata": {},
   "source": [
    "<font color=\"RED\" size=\"+1\">**[Q]**</font> Ecrire la fonction <tt>evalue(position)</tt> qui rend la valeur de l'évaluation de la position obtenue en utilisant la fonction $f$."
   ]
  },
  {
   "cell_type": "code",
   "execution_count": 16,
   "metadata": {},
   "outputs": [],
   "source": [
    "def evalue(position: dict) -> int:\n",
    "    # si position terminale\n",
    "    if est_terminale(position):\n",
    "        # retourner +99 si SUD gagne et -99 si Nord gagne (ligne 1 et 2 de la fct de cout)\n",
    "        return (1 - 2 * int(('NORD' == score_final(position)[0]))) * 99\n",
    "    # sinon\n",
    "    else :\n",
    "        n = position['dimension']        # nombre de colonne du plateau\n",
    "        # nombre de cases du camp SUD contenant 1 ou 2 graines, dans la position p\n",
    "        f12_sud = sum([p == 1 or p == 2 for p in position['plateau'][:n]])\n",
    "        # nombre de cases du camp NORD contenant 1 ou 2 graines, dans la position p\n",
    "        f12_nord = sum([p == 1 or p == 2 for p in position['plateau'][n:]])\n",
    "        #calcul de la ligne 3 de la fonction de cout:\n",
    "        return 2*(position['gain']['SUD'] - position['gain']['NORD']) + f12_nord - f12_sud"
   ]
  },
  {
   "cell_type": "markdown",
   "metadata": {},
   "source": [
    "<font color=\"RED\" size=\"+1\">**[Q]**</font> Ecrire la fonction <tt>minimax(position, prof)</tt> qui, pour la position donnée, retourne un tuple Python dont le premier terme correspond au meilleur coup à jouer trouvé par l'application de l'algorithme du minimax à une profondeur <tt>prof</tt>, et le deuxième terme correspond à l’évaluation de la position obtenue pour ce coup."
   ]
  },
  {
   "cell_type": "code",
   "execution_count": 17,
   "metadata": {},
   "outputs": [
    {
     "name": "stdout",
     "output_type": "stream",
     "text": [
      "Plus grand entier :  9223372036854775807\n"
     ]
    }
   ],
   "source": [
    "# Rappel:\n",
    "import sys\n",
    "print(\"Plus grand entier : \", sys.maxsize)"
   ]
  },
  {
   "cell_type": "code",
   "execution_count": 18,
   "metadata": {},
   "outputs": [],
   "source": [
    "from typing import Tuple, Union\n",
    "\n",
    "\n",
    "def minimax(position: dict, prof: int) -> Tuple[Union[None, int], int]:\n",
    "    assert prof >= 0\n",
    "    n = position['dimension']\n",
    "\n",
    "    if prof == 0 or est_terminale(position):\n",
    "        return None, evalue(position)\n",
    "\n",
    "    select = max if position['trait'] == 'SUD' else min\n",
    "\n",
    "    list_next = [(valid_coup, minimax(valid_pos, prof-1)[1])\n",
    "                    for valid_coup, valid_pos in\n",
    "                    ((coup, effectue_si_valide(position, coup)) for coup in range(1, n+1))\n",
    "                    if valid_pos]\n",
    "\n",
    "\n",
    "    return select(list_next, key=lambda x: x[1])"
   ]
  },
  {
   "cell_type": "markdown",
   "metadata": {},
   "source": [
    "<font color=\"RED\" size=\"+1\">**[Q]**</font> Ecrire la fonction <tt>partie_minimax(campCPU, taille=6, nb_graines=4, prof=2)</tt> permettant à un joueur humain de jouer contre l'ordinateur, celui-ci trouvant ses coups à l'aide de l'algorithme minimax, utilisé à une profondeur <tt>prof</tt> (par défaut 2). L'argument <tt>campCPU</tt> donne le camp que doit gérer l'ordinateur (<tt>'SUD'</tt> ou <tt>'NORD'</tt>). L'argument <tt>taille</tt> donne la dimension du plateau de jeu en nombre de colonnes et l'argument <tt>nb_graines</tt> donne le nombre de graines dans chaque case au départ.\n"
   ]
  },
  {
   "cell_type": "code",
   "execution_count": 19,
   "metadata": {},
   "outputs": [],
   "source": [
    "def gen_strat_minimax(prof):\n",
    "    return lambda pos : minimax(pos, prof)[0]"
   ]
  },
  {
   "cell_type": "code",
   "execution_count": 20,
   "metadata": {},
   "outputs": [],
   "source": [
    "def partie_minimax(campCPU, taille=6, nb_graines=4, prof=4):\n",
    "    strategie_minimax = lambda position: minimax(position, prof)[0]\n",
    "    jouer_partie(taille, nb_graines, campCPU, strategie_humaine, gen_strat_minimax(prof))"
   ]
  },
  {
   "cell_type": "code",
   "execution_count": 21,
   "metadata": {},
   "outputs": [
    {
     "name": "stdout",
     "output_type": "stream",
     "text": [
      "* * * * * * * * * * * * * * * * * * * *\n",
      "\t\tNORD (prises: 2)\n",
      "< - - - - - - - - - - - - - - -\n",
      "colonnes:\t 1 \t 2 \t 3 \t 4 \t 5 \t 6 \n",
      "        \t[0]\t[1]\t[7]\t[2]\t[7]\t[7]\n",
      "        \t[1]\t[1]\t[1]\t[9]\t[0]\t[7]\n",
      "colonnes:\t 1 \t 2 \t 3 \t 4 \t 5 \t 6 \n",
      "\n",
      "- - - - - - - - - - - - - - - >\n",
      "\t\tSUD (prises: 3)\n",
      "\n",
      "-> camp au trait: NORD\n",
      "\n",
      "*************************\n",
      "********* Partie minimax: \n"
     ]
    }
   ],
   "source": [
    "# ------------------------- TEST\n",
    "maPosition = aw.position_initiale(6)\n",
    "maPosition2 = aw.joue_un_coup(maPosition, 1) # SUD joue\n",
    "maPosition2 = aw.joue_un_coup(maPosition2, 1) # NORD joue\n",
    "maPosition2 = aw.joue_un_coup(maPosition2, 2) # SUD joue\n",
    "maPosition2 = aw.joue_un_coup(maPosition2, 4) # NORD joue\n",
    "maPosition2 = aw.joue_un_coup(maPosition2, 3) # SUD joue\n",
    "maPosition2 = aw.joue_un_coup(maPosition2, 2) # NORD joue\n",
    "maPosition2 = aw.joue_un_coup(maPosition2, 5) # SUD joue\n",
    "aw.affichage(maPosition2)\n",
    "\n",
    "# --------\n",
    "#partie_humains(3, 2)\n",
    "#partie_aleatoire(\"SUD\", 5, 3)\n",
    "print(\"*************************\\n********* Partie minimax: \");\n",
    "\n",
    "# decommenter la ligne suivante :\n",
    "# partie_minimax(\"SUD\", taille=6, nb_graines=4, prof=2)"
   ]
  },
  {
   "cell_type": "markdown",
   "metadata": {},
   "source": [
    "## Joueur artificiel élaboré"
   ]
  },
  {
   "cell_type": "markdown",
   "metadata": {},
   "source": [
    "<font color=\"RED\" size=\"+1\">**[Q]**</font> Ecrire la fonction <code>alphabeta(position, prof=2, alpha=-sys.maxsize, beta=sys.maxsize)</code> qui, pour la position donnée, retourne le tuple dont le premier élément correspond au meilleur coup à jouer trouvé par l'application de l'algorithme du alpha-bêta à une profondeur <code>prof</code>, avec les valeurs <code>alpha</code> et <code>beta</code> comme valeurs initiales.\n"
   ]
  },
  {
   "cell_type": "code",
   "execution_count": 22,
   "metadata": {},
   "outputs": [],
   "source": [
    "import sys\n",
    "from typing import Union\n",
    "\n",
    "def alphabeta(position, prof=2, alpha=-sys.maxsize, beta=sys.maxsize) -> Tuple[Union[None, int], int]:\n",
    "    assert prof >= 0\n",
    "\n",
    "    if prof == 0 or est_terminale(position):\n",
    "        return None, evalue(position)\n",
    "\n",
    "    v = -sys.maxsize if position['trait'] == 'SUD' else sys.maxsize\n",
    "    best_coup = 0\n",
    "\n",
    "    list_next = [(valid_coup, valid_pos)\n",
    "                 for valid_coup, valid_pos in\n",
    "                 ((coup, effectue_si_valide(position, coup)) for coup in range(1, position['dimension']+1))\n",
    "                 if valid_pos]\n",
    "\n",
    "    for valid_coup, valid_pos in list_next:\n",
    "        child_value = alphabeta(valid_pos, prof-1, alpha, beta)[1]\n",
    "        if position['trait'] == 'SUD':\n",
    "            if child_value > v:\n",
    "                v = child_value\n",
    "                best_coup = valid_coup\n",
    "            if v >= beta:\n",
    "                break # coupure beta\n",
    "            alpha = max(alpha, v)\n",
    "        if position['trait'] == 'NORD':\n",
    "            if child_value < v:\n",
    "                v = child_value\n",
    "                best_coup = valid_coup\n",
    "            if v <= alpha:\n",
    "                break # coupure alpha\n",
    "            beta = min(beta, v)\n",
    "\n",
    "    return best_coup, v"
   ]
  },
  {
   "cell_type": "markdown",
   "metadata": {},
   "source": [
    "<font color=\"RED\" size=\"+1\">**[Q]**</font> Ecrire la fonction <code>partie_alphabeta(campCPU, taille=6, nb_graines=4, prof=2)</code> permettant à un joueur  humain de jouer contre l'ordinateur, celui-ci trouvant ses coups à l'aide de\n",
    "  l'algorithme alpha-bêta, utilisé à une profondeur <code>prof</code>. L'argument <code>campCPU</code>\n",
    "  donne le camp que doit gérer l'ordinateur (<code>'SUD'</code> ou <code>'NORD'</code>). L'argument <tt>taille</tt> donne la dimension du plateau de jeu en nombre de colonnes.\n"
   ]
  },
  {
   "cell_type": "code",
   "execution_count": 23,
   "metadata": {
    "tags": []
   },
   "outputs": [],
   "source": [
    "def gen_strat_alphabeta(prof):\n",
    "    return lambda pos : alphabeta(pos, prof)[0]"
   ]
  },
  {
   "cell_type": "code",
   "execution_count": 24,
   "metadata": {},
   "outputs": [],
   "source": [
    "def partie_alphabeta(campCPU, taille=6, nb_graines=4, prof=2):\n",
    "    jouer_partie(taille, nb_graines, campCPU, strategie_humaine, gen_strat_alphabeta(prof))"
   ]
  },
  {
   "cell_type": "code",
   "execution_count": 25,
   "metadata": {
    "collapsed": false,
    "jupyter": {
     "outputs_hidden": false
    }
   },
   "outputs": [],
   "source": [
    "#partie_alphabeta('SUD', taille=6, nb_graines=4, prof=5)"
   ]
  },
  {
   "cell_type": "code",
   "execution_count": 26,
   "metadata": {
    "tags": []
   },
   "outputs": [],
   "source": [
    "#jouer_partie(6, 4, 'SUD', gen_strat_alphabeta(3), gen_strat_alphabeta(6))"
   ]
  },
  {
   "cell_type": "markdown",
   "metadata": {},
   "source": [
    "## Pour aller plus loin..."
   ]
  },
  {
   "cell_type": "markdown",
   "metadata": {},
   "source": [
    "Ne pas hésiter à ajouter des fonctionnalités ou des améliorations à votre programme.\n",
    "Par exemple :\n",
    "- une interface graphique pour afficher le tablier, saisir les coups,...\n",
    "- proposer une nouvelle fonction d'évaluation plus efficace que celle donnée dans\n",
    "  l'exercice 4 du TD. Tester le programme en le faisant jouer contre lui même un grand nombre de\n",
    "  fois (automatiquement).\n",
    "- ajouter la règle suivante: un coup qui retire toutes les graines du camp de\n",
    "  l'adversaire peut être quand même joué mais dans ce cas, aucune prise n'est effectuée.\n",
    "- toute autre amélioration que vous pouvez envisager.\n",
    "\n"
   ]
  },
  {
   "cell_type": "code",
   "execution_count": 27,
   "outputs": [],
   "source": [
    "## Ajout de règle"
   ],
   "metadata": {
    "collapsed": false
   }
  },
  {
   "cell_type": "code",
   "execution_count": 28,
   "outputs": [],
   "source": [
    "# un coup qui retire toutes les graines du camp de l'adversaire peut être quand même joué mais dans ce cas,\n",
    "# aucune prise n'est effectuée.\n",
    "\n",
    "\n",
    "# modifie la règle d'un coup illégal et le rend possible\n",
    "# Trick pour éviter de mofiier la fonction awele.py\n",
    "def est_legale(position):\n",
    "    return True\n",
    "\n",
    "def jouer_partie(taille, nb_graines, camp_adverse, strategie_joueur, strategie_adverse):\n",
    "    position = aw.position_initiale(taille, nb_graines=nb_graines)\n",
    "    n = position['dimension']\n",
    "    while not est_terminale(position):\n",
    "        aw.affichage(position)\n",
    "        trait= position['trait']\n",
    "        ancienne_position = position['gain'][trait]   # conserver l'ancien score\n",
    "        if position['trait'] == camp_adverse:\n",
    "            coup = strategie_adverse(position)\n",
    "        else:\n",
    "            coup = strategie_joueur(position)\n",
    "        position = aw.joue_un_coup(position, coup)\n",
    "\n",
    "        # modification de la règle pour la famine de l'adversaire\n",
    "        # si plus de graine dans le camp adverse du joueur ayant joué le coup précedent alors\n",
    "        # on retire on retire les gains qu'il vient de faire pendant ce tour\n",
    "        if trait == 'SUD' and all(i == 0 for i in position['plateau'][n:]):\n",
    "            position['gain'][trait] -= position['gain'][trait] - ancienne_position\n",
    "        if trait == 'NORD' and all(i == 0 for i in position['plateau'][:n]):\n",
    "            position['gain'][trait] -= position['gain'][trait] - ancienne_position\n",
    "\n",
    "    aw.affichage(position)\n",
    "    joueur, score = score_final(position)\n",
    "    if score == position['nb_total'] / 2:\n",
    "        print(f'Egalité avec score de {position[\"nb_total\"] / 2} graines')\n",
    "    else:\n",
    "        print(f\"{joueur} a gagné avec un score de {score} graines\")"
   ],
   "metadata": {
    "collapsed": false
   }
  },
  {
   "cell_type": "code",
   "execution_count": 29,
   "outputs": [],
   "source": [
    "## Interface graphique"
   ],
   "metadata": {
    "collapsed": false
   }
  },
  {
   "cell_type": "code",
   "execution_count": 30,
   "metadata": {
    "collapsed": false,
    "jupyter": {
     "outputs_hidden": false
    }
   },
   "outputs": [],
   "source": [
    "import tkinter as tk\n",
    "from tkinter import ttk"
   ]
  },
  {
   "cell_type": "code",
   "execution_count": 31,
   "metadata": {
    "collapsed": false,
    "jupyter": {
     "outputs_hidden": false
    }
   },
   "outputs": [],
   "source": [
    "class Puit:\n",
    "\n",
    "    HEIGHT_SPACING_FACTOR = 1.2\n",
    "    RAYON_FACTOR = 2.3\n",
    "    TEXT_FACTOR = 1.5\n",
    "\n",
    "    def __init__(self, dimension, colomne, trait, behaviour):\n",
    "        self.text_puit = None\n",
    "        self.oval_puit = None\n",
    "        self.dimension = dimension\n",
    "        self.colomne = colomne\n",
    "        self.trait = trait\n",
    "        self.behaviour = behaviour\n",
    "\n",
    "        self.indice = self.colomne - 1 if self.trait == 'SUD' else 2*self.dimension - self.colomne\n",
    "\n",
    "    def get_rayon(self, surface):\n",
    "        height_constraint = (surface.winfo_height() - 100) / (self.HEIGHT_SPACING_FACTOR * 4)\n",
    "        width_constraint = surface.winfo_width() / (self.RAYON_FACTOR * self.dimension)\n",
    "        return min(height_constraint, width_constraint)\n",
    "\n",
    "    def get_center(self, surface):\n",
    "        x = (surface.winfo_width() / self.dimension) * (self.colomne - 0.5)\n",
    "        y = (surface.winfo_height() / 2) + (1-2*(self.trait == 'NORD')) * self.HEIGHT_SPACING_FACTOR * self.get_rayon(surface)\n",
    "        return x, y\n",
    "\n",
    "    def draw(self, surface:tk.Canvas, board):\n",
    "        x, y = self.get_center(surface)\n",
    "        rayon = self.get_rayon(surface)\n",
    "        nb_graines = board.position['plateau'][self.indice]\n",
    "        puit_font = ('Helvetica', int(rayon/self.TEXT_FACTOR))\n",
    "        self.oval_puit = surface.create_oval(x-rayon, y-rayon, x+rayon, y+rayon, fill='black', width=0)\n",
    "        self.text_puit = surface.create_text(x, y, text=str(nb_graines), fill='white', font=puit_font)\n",
    "\n",
    "        if self.behaviour['strategy'] == 'Humain':\n",
    "            surface.tag_bind(self.oval_puit, '<Button-1>', func=lambda event: board.click(self, event))\n",
    "            surface.tag_bind(self.text_puit, '<Button-1>', func=lambda event: board.click(self, event))\n",
    "\n",
    "            enter_function = lambda event : self.puit_enter_event(event, board)\n",
    "            surface.tag_bind(self.oval_puit, '<Enter>', enter_function)\n",
    "            surface.tag_bind(self.text_puit, '<Enter>', enter_function)\n",
    "            surface.tag_bind(self.oval_puit, '<Leave>', self.puit_leave_event)\n",
    "\n",
    "    def puit_enter_event(self, event, board):\n",
    "        if effectue_si_valide(board.position, self.colomne) and board.trait == self.trait:\n",
    "            event.widget.itemconfig(self.oval_puit, outline='red', width=3)\n",
    "\n",
    "    def puit_leave_event(self, event):\n",
    "        event.widget.itemconfig(self.oval_puit, outline='', width=0)\n",
    "\n",
    "    def update(self, surface:tk.Canvas, board):\n",
    "        x, y = self.get_center(surface)\n",
    "        rayon = self.get_rayon(surface)\n",
    "        if self.oval_puit is not None:\n",
    "            surface.itemconfig(self.oval_puit, width=0)\n",
    "            surface.coords(self.oval_puit, x-rayon, y-rayon, x+rayon, y+rayon)\n",
    "        if self.text_puit is not None:\n",
    "            puit_font = ('Helvetica', int(rayon/self.TEXT_FACTOR))\n",
    "            nb_graines = board.position['plateau'][self.indice]\n",
    "            surface.itemconfig(self.text_puit, text=str(nb_graines), font=puit_font)\n",
    "            surface.coords(self.text_puit, x, y)"
   ]
  },
  {
   "cell_type": "code",
   "execution_count": 32,
   "metadata": {
    "collapsed": false,
    "jupyter": {
     "outputs_hidden": false
    }
   },
   "outputs": [],
   "source": [
    "class Board:\n",
    "\n",
    "    PLACEMENT_SCORE = 0.4\n",
    "    IA_WAIT_TIME_MS = 800\n",
    "    font_active = {\"font\": ('Purisa', 32, 'bold', 'underline'), \"color\": '#290702'}\n",
    "    font_default = {\"font\": ('Purisa', 32, 'bold'), \"color\": '#5e1207'}\n",
    "\n",
    "    def __init__(self, position, behaviors, computer_speed):\n",
    "\n",
    "        self.position = position\n",
    "\n",
    "        self.scores_texts = {'SUD': None, 'NORD': None}\n",
    "\n",
    "        self.behaviors = behaviors\n",
    "\n",
    "        self.IA_WAIT_TIME_MS = computer_speed\n",
    "\n",
    "        self.puits = {trait : [Puit(self.dimension, i, trait, self.behaviors[trait]) for i in range(1, self.dimension+1)] for trait in ('SUD', 'NORD')}\n",
    "\n",
    "    @property\n",
    "    def score(self):\n",
    "        return self.position['gain']\n",
    "\n",
    "    @property\n",
    "    def fini(self):\n",
    "        return est_terminale(self.position)\n",
    "\n",
    "    @property\n",
    "    def dimension(self):\n",
    "        return self.position['dimension']\n",
    "\n",
    "    @property\n",
    "    def trait(self):\n",
    "        return self.position['trait']\n",
    "\n",
    "    def draw(self, surface: tk.Canvas):\n",
    "        surface.delete('all')\n",
    "        largeur = surface.winfo_width()\n",
    "        hauteur = surface.winfo_height()\n",
    "        for trait in ('SUD', 'NORD'):\n",
    "            for p in self.puits[trait]:\n",
    "                p.draw(surface, self)\n",
    "        for score in self.score:\n",
    "            self.scores_texts[score] = surface.create_text(\n",
    "                largeur/2,\n",
    "                (hauteur / 2) + (1-2*(score == 'NORD')) * self.PLACEMENT_SCORE*hauteur,\n",
    "                text=self.behaviors[score]['name'] + ' : ' + str(self.score[score]),\n",
    "                font=self.font_active[\"font\"] if score == self.trait else self.font_default[\"font\"],\n",
    "                fill=self.font_active[\"color\"] if score == self.trait else self.font_default[\"color\"],\n",
    "                anchor='center')\n",
    "\n",
    "    def draw_victory(self, surface: tk.Canvas):\n",
    "        surface.delete('all')\n",
    "        joueur, score = score_final(self.position)\n",
    "        texte = 'Victoire de ' + self.behaviors[joueur]['name'] + ' avec ' + str(score) + ' graines'\n",
    "        surface.create_text(surface.winfo_width()/2, surface.winfo_height()/2, text=texte, font=('Purisa', 32, 'bold'), fill='#5e1207', anchor='center')\n",
    "\n",
    "    def update(self, surface: tk.Canvas):\n",
    "        largeur = surface.winfo_width()\n",
    "        hauteur = surface.winfo_height()\n",
    "        for trait in ('SUD', 'NORD'):\n",
    "            for p in self.puits[trait]:\n",
    "                p.update(surface, self)\n",
    "        for score in self.score:\n",
    "            if self.scores_texts[score] is not None:\n",
    "                surface.coords(self.scores_texts[score],\n",
    "                               largeur/2,\n",
    "                               (hauteur / 2) + (1-2*(score == 'NORD')) * self.PLACEMENT_SCORE*hauteur)\n",
    "                surface.itemconfig(self.scores_texts[score], text=self.behaviors[score]['name'] + ' : ' + str(self.score[score]),\n",
    "                               font=self.font_active[\"font\"] if score == self.trait else self.font_default[\"font\"],\n",
    "                               fill=self.font_active[\"color\"] if score == self.trait else self.font_default[\"color\"])\n",
    "\n",
    "\n",
    "    def click(self, puit, event):\n",
    "        if puit.trait == self.trait:\n",
    "            new_pos = effectue_si_valide(self.position, puit.colomne)\n",
    "            if new_pos:\n",
    "                self.position = new_pos\n",
    "                self.update(event.widget)\n",
    "                event.widget.update()\n",
    "\n",
    "                if self.fini:\n",
    "                    self.draw_victory(event.widget)\n",
    "                    event.widget.update()\n",
    "\n",
    "                if self.behaviors[self.trait]['strategy'] != 'Humain':\n",
    "                    # tour de l'IA\n",
    "                    event.widget.after(self.IA_WAIT_TIME_MS, None)\n",
    "                    if self.behaviors[self.trait]['strategy'] == 'Random':\n",
    "                        next_coup = genere_un_coup(self.position)\n",
    "                    elif self.behaviors[self.trait]['strategy'] == 'AlphaBeta':\n",
    "                        next_coup = alphabeta(self.position, self.behaviors[self.trait]['difficulty'])[0]\n",
    "                    elif self.behaviors[self.trait]['strategy'] == 'Minimax':\n",
    "                        next_coup = minimax(self.position, self.behaviors[self.trait]['difficulty'])[0]\n",
    "                    self.position = effectue_si_valide(self.position, next_coup)\n",
    "                    self.update(event.widget)\n",
    "                    event.widget.update()\n",
    "\n",
    "                if self.fini:\n",
    "                    self.draw_victory(event.widget)\n",
    "                    event.widget.update()\n",
    "\n",
    "    def launch(self, surface: tk.Canvas):\n",
    "        if self.behaviors['SUD']['strategy'] != 'Humain':\n",
    "            surface.after(self.IA_WAIT_TIME_MS, None)\n",
    "            if self.behaviors['SUD']['strategy'] == 'Random':\n",
    "                next_coup = genere_un_coup(self.position)\n",
    "            elif self.behaviors['SUD']['strategy'] == 'AlphaBeta':\n",
    "                next_coup = alphabeta(self.position, self.behaviors['SUD']['difficulty'])[0]\n",
    "            elif self.behaviors['SUD']['strategy'] == 'Minimax':\n",
    "                next_coup = minimax(self.position, self.behaviors['SUD']['difficulty'])[0]\n",
    "            self.position = effectue_si_valide(self.position, next_coup)\n",
    "            self.update(surface)\n",
    "            surface.update()\n",
    "            if self.behaviors['NORD']['strategy'] != 'Humain':\n",
    "                while not self.fini:\n",
    "                    surface.after(self.IA_WAIT_TIME_MS, None)\n",
    "                    if self.behaviors[self.trait]['strategy'] == 'Random':\n",
    "                        next_coup = genere_un_coup(self.position)\n",
    "                    elif self.behaviors[self.trait]['strategy'] == 'AlphaBeta':\n",
    "                        next_coup = alphabeta(self.position, self.behaviors[self.trait]['difficulty'])[0]\n",
    "                    elif self.behaviors[self.trait]['strategy'] == 'Minimax':\n",
    "                        next_coup = minimax(self.position, self.behaviors[self.trait]['difficulty'])[0]\n",
    "                    self.position = effectue_si_valide(self.position, next_coup)\n",
    "                    self.update(surface)\n",
    "                    surface.update()\n",
    "                self.draw_victory(surface)"
   ]
  },
  {
   "cell_type": "code",
   "execution_count": 33,
   "metadata": {
    "collapsed": false,
    "jupyter": {
     "outputs_hidden": false
    }
   },
   "outputs": [],
   "source": [
    "class OptionWindow(tk.Tk):\n",
    "\n",
    "    DEFAULT_NAME = \"Entrer un nom\"\n",
    "\n",
    "    def __init__(self, parent_window=None, *args, **kwargs):\n",
    "        super().__init__(*args, **kwargs)\n",
    "\n",
    "        self.title(\"Options\")\n",
    "        self.width = 600\n",
    "        self.height = 550\n",
    "        self.geometry(str(self.width)+'x'+str(self.height))\n",
    "        self.minsize(self.width, self.height)\n",
    "        self.resizable(width=True, height=True)\n",
    "\n",
    "        self.board_label_frame = tk.LabelFrame(self, text=\"Options du plateau\")\n",
    "        self.board_label_frame.pack(fill=\"both\", expand=True, side=\"top\", padx=10, pady=10)\n",
    "\n",
    "        self.option_dimensions_entry = tk.Scale(self.board_label_frame, from_=2, to=20, orient=tk.HORIZONTAL, label=\"Dimension du \\nplateau :\", length=self.width-100, tickinterval=4)\n",
    "        self.option_dimensions_entry.set(6)\n",
    "        self.option_dimensions_entry.pack()\n",
    "\n",
    "        self.option_graines_entry = tk.Scale(self.board_label_frame, from_=1, to=10, orient=tk.HORIZONTAL, label=\"Nombre initial de graines :\", length=self.width-100, tickinterval=2)\n",
    "        self.option_graines_entry.set(4)\n",
    "        self.option_graines_entry.pack()\n",
    "\n",
    "        self.speed_scale = tk.Scale(self.board_label_frame, from_=100, to=1000, orient=tk.HORIZONTAL, label=\"Vitesse de l'IA en ms:\", length=self.width-200, tickinterval=100)\n",
    "        self.speed_scale.set(500)\n",
    "\n",
    "        self.strategies_label_frame = tk.LabelFrame(self, text=\"Stratégies :\")\n",
    "        self.strategies_label_frame.pack(fill=\"both\", expand=True, side=\"top\", padx=10, pady=10)\n",
    "\n",
    "        self.strategies = [\n",
    "            \"Humain\",\n",
    "            \"Random\",\n",
    "            \"Minimax\",\n",
    "            \"AlphaBeta\",\n",
    "        ]\n",
    "\n",
    "        self.nord_label_frame = tk.LabelFrame(self.strategies_label_frame, text=\"NORD :\")\n",
    "        self.nord_label_frame.pack(side='left', fill=\"both\", expand=True, padx=10, pady=10)\n",
    "\n",
    "        self.name_nord = tk.StringVar()\n",
    "        self.name_nord.set(self.DEFAULT_NAME)\n",
    "        self.name_nord_entry = tk.Entry(self.nord_label_frame, textvariable=self.name_nord, justify=tk.CENTER, width=25)\n",
    "        self.name_nord_entry.pack(pady=(10,0))\n",
    "\n",
    "        self.clicked_nord = tk.StringVar()\n",
    "        self.clicked_nord.set(\"Humain\")\n",
    "        self.drop_nord = tk.OptionMenu(self.nord_label_frame, self.clicked_nord, *self.strategies, command=lambda event: self.update_slider_status(event,self.difficulty_nord))\n",
    "        self.drop_nord.pack(pady=(5,10))\n",
    "\n",
    "        self.difficulty_nord = tk.Scale(self.nord_label_frame, from_=1, to=10, orient=tk.HORIZONTAL, label=\"Difficulté :\", length=(self.width/2)-50)\n",
    "        self.difficulty_nord.set(4)\n",
    "\n",
    "\n",
    "        self.sud_label_frame = tk.LabelFrame(self.strategies_label_frame, text=\"SUD :\")\n",
    "        self.sud_label_frame.pack(side='right', fill=\"both\", expand=True, padx=10, pady=10)\n",
    "\n",
    "        self.name_sud = tk.StringVar()\n",
    "        self.name_sud.set(self.DEFAULT_NAME)\n",
    "        self.name_sud_entry = tk.Entry(self.sud_label_frame, textvariable=self.name_sud, justify=tk.CENTER, width=25)\n",
    "        self.name_sud_entry.pack(pady=(10,0))\n",
    "\n",
    "        self.clicked_sud = tk.StringVar()\n",
    "        self.clicked_sud.set(\"Humain\")\n",
    "        self.drop_sud = tk.OptionMenu(self.sud_label_frame, self.clicked_sud, *self.strategies, command=lambda event: self.update_slider_status(event, self.difficulty_sud))\n",
    "        self.drop_sud.pack(pady=(5,10))\n",
    "\n",
    "        self.difficulty_sud = tk.Scale(self.sud_label_frame, from_=1, to=10, orient=tk.HORIZONTAL, label=\"Difficulté :\", length=(self.width/2)-50)\n",
    "        self.difficulty_sud.set(4)\n",
    "\n",
    "        self.start_button = tk.Button(self,\n",
    "                                    text=\"Jouer\",\n",
    "                                    command=self.launch_mainwindow,\n",
    "                                    justify=tk.CENTER,\n",
    "                                    width=20)\n",
    "\n",
    "        self.start_button.pack(side=\"bottom\", pady=10)\n",
    "\n",
    "        if parent_window is not None:\n",
    "            self.parent_window.destroy()\n",
    "\n",
    "    def update_slider_status(self, event, slider):\n",
    "        if event == 'Humain' or event == 'Random':\n",
    "            slider.pack_forget()\n",
    "        else:\n",
    "            slider.pack()\n",
    "\n",
    "        if all(c == 'Humain' for c in [self.clicked_nord.get(), self.clicked_sud.get()]):\n",
    "            self.speed_scale.pack_forget()\n",
    "        else:\n",
    "            self.speed_scale.pack()\n",
    "\n",
    "    def launch_mainwindow(self):\n",
    "\n",
    "        n = int(self.option_dimensions_entry.get())\n",
    "        nbg = int(self.option_graines_entry.get())\n",
    "\n",
    "        nord_strat = self.clicked_nord.get()\n",
    "        sud_strat = self.clicked_sud.get()\n",
    "\n",
    "        computer_speed = self.speed_scale.get()\n",
    "\n",
    "        for c, name in [(self.name_nord, \"NORD\"), (self.name_sud, \"SUD\")]:\n",
    "            if c.get() == self.DEFAULT_NAME or c.get() == \"\":\n",
    "                c.set(name)\n",
    "\n",
    "        behaviors = {\n",
    "            'NORD': {\n",
    "                'strategy': nord_strat,\n",
    "                'name': self.name_nord.get(),\n",
    "                'difficulty': None if nord_strat == 'Humain' or nord_strat == 'Random' else self.difficulty_nord.get(),\n",
    "            },\n",
    "            'SUD': {\n",
    "                'strategy': self.clicked_sud.get(),\n",
    "                'name': self.name_sud.get(),\n",
    "                'difficulty': None if sud_strat == 'Humain' or sud_strat == 'Random' else self.difficulty_sud.get(),\n",
    "            },\n",
    "        }\n",
    "\n",
    "        m = MainWindow(n, nbg, self, behaviors, computer_speed)\n",
    "        m.mainloop()"
   ]
  },
  {
   "cell_type": "code",
   "execution_count": 34,
   "metadata": {
    "collapsed": false,
    "jupyter": {
     "outputs_hidden": false
    }
   },
   "outputs": [],
   "source": [
    "class AboutWindow(tk.Tk):\n",
    "    def __init__(self, *args, **kwargs):\n",
    "        super().__init__(*args, **kwargs)\n",
    "\n",
    "        self.title(\"A propos\")\n",
    "        self.width = 200\n",
    "        self.height = 250\n",
    "        self.geometry(str(self.width)+'x'+str(self.height))\n",
    "        self.resizable(width=False, height=False)\n",
    "\n",
    "        self.about_label = tk.Label(self, text=\"Awale : un jeu de stratégie\")\n",
    "        self.about_label.pack()\n",
    "\n",
    "        self.about_label = tk.Label(self, text=\"Version 0.1\")\n",
    "        self.about_label.pack()\n",
    "\n",
    "        self.separator1 = ttk.Separator(\n",
    "           master=self,\n",
    "           orient=tk.HORIZONTAL,\n",
    "           style='TSeparator',\n",
    "        )\n",
    "        self.separator1.pack(fill=tk.X, pady=10, expand=False)\n",
    "\n",
    "        self.about_label = tk.Label(self, text=\"Auteurs :\\nGuillaume Faure \\n et \\n Mathis Koroglu\")\n",
    "        self.about_label.pack()\n",
    "\n",
    "        self.separator2 = ttk.Separator(\n",
    "           master=self,\n",
    "           orient=tk.HORIZONTAL,\n",
    "           style='TSeparator',\n",
    "        )\n",
    "        self.separator2.pack(fill=tk.X, pady=10, expand=False)\n",
    "\n",
    "        self.about_label = tk.Label(self, text=\"Licence : MIT\")\n",
    "        self.about_label.pack()"
   ]
  },
  {
   "cell_type": "code",
   "execution_count": 35,
   "metadata": {
    "collapsed": false,
    "jupyter": {
     "outputs_hidden": false
    }
   },
   "outputs": [],
   "source": [
    "class MainWindow(tk.Tk):\n",
    "\n",
    "    LARGEUR, HAUTEUR = 900, 800\n",
    "    MIN_PUIT_WIDTH = 20\n",
    "\n",
    "    def __init__(self, n, nbg, option_window, behaviors, computer_speed):\n",
    "        super().__init__()\n",
    "\n",
    "\n",
    "        self.board = Board(aw.position_initiale(n, nb_graines=nbg), behaviors, computer_speed)\n",
    "\n",
    "        self.title(\"Awale\")\n",
    "\n",
    "        self.geometry(str(self.LARGEUR)+'x'+str(self.HAUTEUR))\n",
    "        self.resizable(width=True, height=True)\n",
    "        self.bind('<Configure>', self.set_min_height)\n",
    "\n",
    "        self.create_menu_bar()\n",
    "\n",
    "        self.canvas = tk.Canvas(self, background=\"#F5DEB3\")\n",
    "        self.canvas.pack(expand=True, fill=tk.BOTH)\n",
    "        self.canvas.update()\n",
    "        self.board.draw(self.canvas)\n",
    "        self.options_window = option_window\n",
    "        self.options_window.withdraw()\n",
    "        self.board.launch(self.canvas)\n",
    "\n",
    "    def set_min_height(self, event):\n",
    "        min_width = self.board.dimension * 2 * self.MIN_PUIT_WIDTH\n",
    "        min_height = 8 * self.MIN_PUIT_WIDTH\n",
    "        self.minsize(min_width, min_height)\n",
    "\n",
    "        if not self.board.fini:\n",
    "            self.board.update(self.canvas)\n",
    "        else:\n",
    "            self.board.draw_victory(self.canvas)\n",
    "\n",
    "\n",
    "    def create_menu_bar(self):\n",
    "        menu_bar = tk.Menu(self)\n",
    "\n",
    "        menu_file = tk.Menu(menu_bar, tearoff=0)\n",
    "        menu_file.add_command(label=\"New\", command=self.options)\n",
    "        #TODO menu_file.add_command(label=\"Open\", command=self.open_game)\n",
    "        #TODO menu_file.add_command(label=\"Save\", command=self.save_game)\n",
    "        menu_file.add_separator()\n",
    "        menu_file.add_command(label=\"Exit\", command=self.quit)\n",
    "        menu_bar.add_cascade(label=\"Game\", menu=menu_file)\n",
    "\n",
    "\n",
    "        menu_help = tk.Menu(menu_bar, tearoff=0)\n",
    "        menu_help.add_command(label=\"About\", command=self.do_about)\n",
    "        menu_bar.add_cascade(label=\"Help\", menu=menu_help)\n",
    "\n",
    "        self.config(menu=menu_bar)\n",
    "\n",
    "    def do_about(self):\n",
    "        about_window = AboutWindow()\n",
    "        about_window.mainloop()\n",
    "\n",
    "    def options(self):\n",
    "        self.options_window.deiconify()\n",
    "        self.destroy()\n",
    "\n",
    "    def quit(self) -> None:\n",
    "        self.destroy()"
   ]
  },
  {
   "cell_type": "code",
   "execution_count": null,
   "metadata": {
    "collapsed": false,
    "jupyter": {
     "outputs_hidden": false
    }
   },
   "outputs": [],
   "source": [
    "awele_gui_app = OptionWindow()\n",
    "awele_gui_app.mainloop()"
   ]
  }
 ],
 "metadata": {
  "kernelspec": {
   "display_name": "Python 3 (ipykernel)",
   "language": "python",
   "name": "python3"
  },
  "language_info": {
   "codemirror_mode": {
    "name": "ipython",
    "version": 3
   },
   "file_extension": ".py",
   "mimetype": "text/x-python",
   "name": "python",
   "nbconvert_exporter": "python",
   "pygments_lexer": "ipython3",
   "version": "3.10.10"
  }
 },
 "nbformat": 4,
 "nbformat_minor": 4
}
