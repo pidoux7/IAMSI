{
 "cells": [
  {
   "cell_type": "markdown",
   "id": "62337a8e",
   "metadata": {},
   "source": [
    "# TME 4 - KOROGLU Mathis et FAURE Guillaume"
   ]
  },
  {
   "cell_type": "markdown",
   "id": "49830b97",
   "metadata": {},
   "source": [
    "$n_e$ : nombre d'équipes participantes  \n",
    "$n_s$ : nombre de semaines de matchs  \n",
    "$n_j$ : nombre jour de matchs = $2*n_s$  \n",
    "$m_{j,x,y}$ codé par $v_k = j*n_e²+x*n_e+y+1$  \n"
   ]
  },
  {
   "cell_type": "markdown",
   "id": "15c86384",
   "metadata": {},
   "source": [
    "# EXERCICE 1"
   ]
  },
  {
   "cell_type": "code",
   "execution_count": 29,
   "id": "49b55e6d",
   "metadata": {},
   "outputs": [],
   "source": [
    "import os\n",
    "import time\n",
    "import subprocess"
   ]
  },
  {
   "cell_type": "markdown",
   "id": "4aeb4d51",
   "metadata": {},
   "source": [
    "# Question 1"
   ]
  },
  {
   "cell_type": "markdown",
   "id": "cae9c1c1",
   "metadata": {},
   "source": [
    "Le nombre de variables propositionnelles $m_{j,x,y}$ est de $n_e*n_j²$"
   ]
  },
  {
   "cell_type": "markdown",
   "id": "0ff890a1",
   "metadata": {},
   "source": [
    "# Question 2"
   ]
  },
  {
   "cell_type": "code",
   "execution_count": 1,
   "id": "1eefb594",
   "metadata": {},
   "outputs": [],
   "source": [
    "def codage(ne,nj,j,x,y) :\n",
    "    return j*(ne**2)+x*ne+y+1"
   ]
  },
  {
   "cell_type": "markdown",
   "id": "ee612b5f",
   "metadata": {},
   "source": [
    "# Question 3"
   ]
  },
  {
   "cell_type": "code",
   "execution_count": 2,
   "id": "5a34f388",
   "metadata": {},
   "outputs": [],
   "source": [
    "def decodage(k,ne):  \n",
    "    j = (k-1) // (ne**2)\n",
    "    x = ((k-1)-(j*(ne**2))) // ne\n",
    "    y = (k-1) % ne\n",
    "    return(j,x,y)"
   ]
  },
  {
   "cell_type": "code",
   "execution_count": 3,
   "id": "a30f66e2",
   "metadata": {},
   "outputs": [
    {
     "name": "stdout",
     "output_type": "stream",
     "text": [
      "Data : ne=20, nj=92, j=62, x=16, y=19\n",
      "codage : k=25140\n",
      "decodage : j=62, x=16, y=19\n"
     ]
    }
   ],
   "source": [
    "import random\n",
    "ne= random.randint(2,100)\n",
    "nj= random.randint(2,100)\n",
    "j= random.randint(0,nj)\n",
    "x= random.randint(0,ne)\n",
    "y= random.randint(0,ne)\n",
    "while x == y:\n",
    "    y= random.randint(0,ne)\n",
    "k=codage(ne,nj,j,x,y)\n",
    "print(f'Data : ne={ne}, nj={nj}, j={j}, x={x}, y={y}')\n",
    "print(f'codage : k={k}')\n",
    "j,x,y =decodage(k,ne)\n",
    "print(f'decodage : j={j}, x={x}, y={y}')"
   ]
  },
  {
   "cell_type": "markdown",
   "id": "94b7fd29",
   "metadata": {},
   "source": [
    "# EXERCICE 3"
   ]
  },
  {
   "cell_type": "markdown",
   "id": "8927f17d",
   "metadata": {},
   "source": [
    "# Question 1"
   ]
  },
  {
   "cell_type": "markdown",
   "id": "1778b0dc",
   "metadata": {},
   "source": [
    "1. ”au moins une de ces variables est vraie” "
   ]
  },
  {
   "cell_type": "markdown",
   "id": "7b8c4e3e",
   "metadata": {},
   "source": [
    "J$\\in${0,...,n<sub>j-1</sub>} et E$\\in${0,...,n<sub>e-1</sub>}\n",
    "\n",
    "Formule et encodage de \"au moins une de ces variables est vraie\" :  \n",
    "$$\\sum_{i\\in E}v_i\\ge 1\\equiv\\bigvee_{i\\in E}v_i$$  \n",
    "\n",
    "Cela correspond donc à une seule clause comportant une disjonction de n littéraux."
   ]
  },
  {
   "cell_type": "code",
   "execution_count": 4,
   "id": "dc84c9e1",
   "metadata": {},
   "outputs": [],
   "source": [
    "def au_moins(liste):\n",
    "    f_dimacs = \"\"\n",
    "    for i in liste:\n",
    "        f_dimacs+= f'{i} '\n",
    "    f_dimacs+='0\\n'\n",
    "    return f_dimacs"
   ]
  },
  {
   "cell_type": "code",
   "execution_count": 5,
   "id": "22ed39e8",
   "metadata": {},
   "outputs": [
    {
     "name": "stdout",
     "output_type": "stream",
     "text": [
      "-1 2 -3 -4 5 6 7 -8 0\n",
      "\n"
     ]
    }
   ],
   "source": [
    "ex = [-1,2,-3,-4,5,6,7,-8]\n",
    "res = au_moins(ex)\n",
    "print(res)"
   ]
  },
  {
   "cell_type": "markdown",
   "id": "e4827628",
   "metadata": {},
   "source": [
    "2. ”au plus une de ces variables est vraie” "
   ]
  },
  {
   "cell_type": "markdown",
   "id": "70fe5aea",
   "metadata": {},
   "source": [
    "Formule et encodage de \"au plus une de ces variables est vraie\" :  \n",
    "$$\\sum_{i\\in E}v_i\\le 1 \\equiv \\bigwedge_{i\\leq j\\le n} ^{i\\le j\\leq n} \\neg v_i \\vee \\neg v_j$$\n",
    "\n",
    "Cela correspond à $\\frac{n*(n-1)}{2}$ clauses de deux littéraux :  O(n²)"
   ]
  },
  {
   "cell_type": "code",
   "execution_count": 6,
   "id": "909b7791",
   "metadata": {},
   "outputs": [],
   "source": [
    "def au_plus(liste):\n",
    "    f_dimacs = \"\"\n",
    "    for i in range(len(liste)):\n",
    "        for j in range(i+1,len(liste)):\n",
    "            f_dimacs+= f'{-liste[i]} {-liste[j]} 0\\n'\n",
    "    return f_dimacs"
   ]
  },
  {
   "cell_type": "code",
   "execution_count": 7,
   "id": "68b19cf6",
   "metadata": {},
   "outputs": [
    {
     "name": "stdout",
     "output_type": "stream",
     "text": [
      "nombre de clauses attendue : 10\n",
      "1 -2 0\n",
      "1 3 0\n",
      "1 4 0\n",
      "1 -5 0\n",
      "-2 3 0\n",
      "-2 4 0\n",
      "-2 -5 0\n",
      "3 4 0\n",
      "3 -5 0\n",
      "4 -5 0\n",
      "\n"
     ]
    }
   ],
   "source": [
    "ex = [-1,2,-3,-4,5]\n",
    "res = au_plus(ex)\n",
    "print(f'nombre de clauses attendue : {int((len(ex)*(len(ex)-1)/2))}')\n",
    "print(res)"
   ]
  },
  {
   "cell_type": "markdown",
   "id": "31d0cfd5",
   "metadata": {},
   "source": [
    "# Question 2"
   ]
  },
  {
   "cell_type": "markdown",
   "id": "a14b68f4",
   "metadata": {},
   "source": [
    "1. Chaque équipe ne peut jouer plus d'un match par jour:\n",
    "\n",
    "$$\\forall j\\in J,\\forall e\\in E,\\sum_{i\\in E}(m_{j,i,e}+m_{j,e,i})\\le1$$  "
   ]
  },
  {
   "cell_type": "markdown",
   "id": "5175bb74",
   "metadata": {},
   "source": [
    "2. fonction encoderC1"
   ]
  },
  {
   "cell_type": "code",
   "execution_count": 8,
   "id": "0d69b234",
   "metadata": {},
   "outputs": [],
   "source": [
    "def encoderC1(ne,nj):\n",
    "    f_dimacs =\"\"\n",
    "    liste_e=[e for e in range(ne)]\n",
    "    for j in range(nj):\n",
    "        for e in range(ne):\n",
    "            f_dimacs += au_plus([codage(ne,nj,j,i,e) for i in liste_e] + [codage(ne,nj,j,e,i) for i in liste_e])\n",
    "    return f_dimacs"
   ]
  },
  {
   "cell_type": "markdown",
   "id": "1ad9834c",
   "metadata": {},
   "source": [
    "3. calcul nombre de contraintes de cardinalité et nombre de clauses"
   ]
  },
  {
   "cell_type": "markdown",
   "id": "cea91b2a",
   "metadata": {},
   "source": [
    "Soit $n_e=3$ et $n_j=4$ donc $n_e*n_j=12$ contraintes de cardinalités (chaque ´equipe ne peut jouer plus d’un match par jour).<br>\n",
    "On a vu plus haut qu'un encodage par paire 'au plus' nécessitait $\\frac{n*(n-1)}{2}$ clauses.<br>\n",
    "Sachant qu'ici n=$2n_e$, on a $\\frac{2n_e*(2n_e-1)}{2}= 15$ clauses par contrainte.\n",
    "\n",
    "Au total $n_e*n_j*\\frac{2n_e*(2n_e-1)}2=180$ clauses pour la contrainte C1."
   ]
  },
  {
   "cell_type": "code",
   "execution_count": 9,
   "id": "3cf2cc0e",
   "metadata": {
    "scrolled": true
   },
   "outputs": [
    {
     "name": "stdout",
     "output_type": "stream",
     "text": [
      "nombre de clauses en théorie: 180\n",
      "nombre de clauses en pratique: 180\n"
     ]
    }
   ],
   "source": [
    "ne=3\n",
    "nj=4\n",
    "contrainte = encoderC1(3,4)\n",
    "theorie = ne * nj * 2 * ne * (2 * ne - 1) // 2\n",
    "pratique = len(contrainte.split('0\\n'))-1\n",
    "\n",
    "print(f'nombre de clauses en théorie: {int(theorie)}\\nnombre de clauses en pratique: {int(pratique)}')"
   ]
  },
  {
   "cell_type": "markdown",
   "id": "593630b7",
   "metadata": {},
   "source": [
    "4. ”Sur la durée du championnat, chaque équipe doit rencontrer l’ensemble des autres équipes une fois à domicile et une fois à l’extérieur, soit exactement 2 matchs par équipe adverse.”"
   ]
  },
  {
   "cell_type": "markdown",
   "id": "44fabd00",
   "metadata": {},
   "source": [
    "$$\\forall (x,y)\\in E², x\\ne y,\\sum_{j\\in J}m_{j,x,y}=1$$"
   ]
  },
  {
   "cell_type": "markdown",
   "id": "71ac96c7",
   "metadata": {},
   "source": [
    "5. fonction encoderC2"
   ]
  },
  {
   "cell_type": "code",
   "execution_count": 10,
   "id": "6f698984",
   "metadata": {},
   "outputs": [],
   "source": [
    "def encoderC2(ne,nj):\n",
    "    f_dimacs=''\n",
    "    liste_j = [j for j in range(nj)]\n",
    "    for x in range(ne):\n",
    "        for y in range(ne):\n",
    "            if x != y:\n",
    "                f_dimacs+= au_moins([codage(ne,nj,j,x,y) for j in liste_j])\n",
    "                f_dimacs+= au_plus([codage(ne,nj,j,x,y) for j in liste_j])\n",
    "    return f_dimacs"
   ]
  },
  {
   "cell_type": "markdown",
   "id": "216b75d2",
   "metadata": {},
   "source": [
    "6. calcul nombre de contraintes de cardinalité et nombre de clauses"
   ]
  },
  {
   "cell_type": "markdown",
   "id": "33b35911",
   "metadata": {},
   "source": [
    "Pour chaque couple d'équipe distincte, elle s'affronte exactement deux fois, une fois à domicile, une fois à l'exterieur cela signifie qu'il y a : $n_e*(n_e-1)=6$ contraintes de cardinalité.<br>\n",
    "\n",
    "Pour chacune contrainte, il y a pour au_plus : $n_j*(n_j-1)/2=6$ clauses et pour au_moins: $1$ clause<br>\n",
    "\n",
    "Il y donc au total $n_e*(n_e-1)\\left(\\frac{n_j*(n_j-1)}2+1\\right)=42$ clauses pour C2"
   ]
  },
  {
   "cell_type": "code",
   "execution_count": 11,
   "id": "dd693793",
   "metadata": {},
   "outputs": [
    {
     "name": "stdout",
     "output_type": "stream",
     "text": [
      "nombre de clauses en théorie: 42\n",
      "nombre de clauses en pratique: 42\n"
     ]
    }
   ],
   "source": [
    "ne=3\n",
    "nj=4\n",
    "contrainte = encoderC2(3,4)\n",
    "theorie = ne * (ne-1) * ((nj * (nj - 1)// 2)+1)\n",
    "pratique = len(contrainte.split('0\\n'))-1\n",
    "\n",
    "print(f'nombre de clauses en théorie: {int(theorie)}\\nnombre de clauses en pratique: {int(pratique)}')"
   ]
  },
  {
   "cell_type": "markdown",
   "id": "199de4d3",
   "metadata": {},
   "source": [
    "7. Ecrire un programme encoder qui encode toutes les contraintes C1 et C2 pour ne et nj donné."
   ]
  },
  {
   "cell_type": "code",
   "execution_count": 12,
   "id": "85ba9bab",
   "metadata": {},
   "outputs": [],
   "source": [
    "def encoder(ne,nj,nom):\n",
    "    f_dimacs=''\n",
    "    f_dimacs+=encoderC1(ne,nj)\n",
    "    f_dimacs+=encoderC2(ne,nj)\n",
    "    nb_clauses = len(f_dimacs.split(\"0\\n\"))-1\n",
    "    nb_variables = nj*(ne**2)\n",
    "    fichier_cnf =f'p cnf {nb_variables} {nb_clauses}\\n' + f_dimacs\n",
    "    with open(nom, \"w\") as fichier:     \n",
    "        fichier.write(fichier_cnf)\n",
    "    return fichier_cnf"
   ]
  },
  {
   "cell_type": "code",
   "execution_count": 13,
   "id": "91119ea1",
   "metadata": {},
   "outputs": [
    {
     "name": "stdout",
     "output_type": "stream",
     "text": [
      "p cnf 36 222\n",
      "-1 -4 0\n",
      "-1 -7 0\n",
      "-1 -1 0\n",
      "-1 -2 0\n",
      "-1 -3 0\n",
      "-4 -7 0\n",
      "-4 -1 0\n",
      "-4 -2 0\n",
      "-4 -3 0\n",
      "-7 -1 0\n",
      "-7 -2 0\n",
      "-7 -3 0\n",
      "-1 -2 0\n",
      "-1 -3 0\n",
      "-2 -3 0\n",
      "-2 -5 0\n",
      "-2 -8 0\n",
      "-2 -4 0\n",
      "-2 -5 0\n",
      "-2 -6 0\n",
      "-5 -8 0\n",
      "-5 -4 0\n",
      "-5 -5 0\n",
      "-5 -6 0\n",
      "-8 -4 0\n",
      "-8 -5 0\n",
      "-8 -6 0\n",
      "-4 -5 0\n",
      "-4 -6 0\n",
      "-5 -6 0\n",
      "-3 -6 0\n",
      "-3 -9 0\n",
      "-3 -7 0\n",
      "-3 -8 0\n",
      "-3 -9 0\n",
      "-6 -9 0\n",
      "-6 -7 0\n",
      "-6 -8 0\n",
      "-6 -9 0\n",
      "-9 -7 0\n",
      "-9 -8 0\n",
      "-9 -9 0\n",
      "-7 -8 0\n",
      "-7 -9 0\n",
      "-8 -9 0\n",
      "-10 -13 0\n",
      "-10 -16 0\n",
      "-10 -10 0\n",
      "-10 -11 0\n",
      "-10 -12 0\n",
      "-13 -16 0\n",
      "-13 -10 0\n",
      "-13 -11 0\n",
      "-13 -12 0\n",
      "-16 -10 0\n",
      "-16 -11 0\n",
      "-16 -12 0\n",
      "-10 -11 0\n",
      "-10 -12 0\n",
      "-11 -12 0\n",
      "-11 -14 0\n",
      "-11 -17 0\n",
      "-11 -13 0\n",
      "-11 -14 0\n",
      "-11 -15 0\n",
      "-14 -17 0\n",
      "-14 -13 0\n",
      "-14 -14 0\n",
      "-14 -15 0\n",
      "-17 -13 0\n",
      "-17 -14 0\n",
      "-17 -15 0\n",
      "-13 -14 0\n",
      "-13 -15 0\n",
      "-14 -15 0\n",
      "-12 -15 0\n",
      "-12 -18 0\n",
      "-12 -16 0\n",
      "-12 -17 0\n",
      "-12 -18 0\n",
      "-15 -18 0\n",
      "-15 -16 0\n",
      "-15 -17 0\n",
      "-15 -18 0\n",
      "-18 -16 0\n",
      "-18 -17 0\n",
      "-18 -18 0\n",
      "-16 -17 0\n",
      "-16 -18 0\n",
      "-17 -18 0\n",
      "-19 -22 0\n",
      "-19 -25 0\n",
      "-19 -19 0\n",
      "-19 -20 0\n",
      "-19 -21 0\n",
      "-22 -25 0\n",
      "-22 -19 0\n",
      "-22 -20 0\n",
      "-22 -21 0\n",
      "-25 -19 0\n",
      "-25 -20 0\n",
      "-25 -21 0\n",
      "-19 -20 0\n",
      "-19 -21 0\n",
      "-20 -21 0\n",
      "-20 -23 0\n",
      "-20 -26 0\n",
      "-20 -22 0\n",
      "-20 -23 0\n",
      "-20 -24 0\n",
      "-23 -26 0\n",
      "-23 -22 0\n",
      "-23 -23 0\n",
      "-23 -24 0\n",
      "-26 -22 0\n",
      "-26 -23 0\n",
      "-26 -24 0\n",
      "-22 -23 0\n",
      "-22 -24 0\n",
      "-23 -24 0\n",
      "-21 -24 0\n",
      "-21 -27 0\n",
      "-21 -25 0\n",
      "-21 -26 0\n",
      "-21 -27 0\n",
      "-24 -27 0\n",
      "-24 -25 0\n",
      "-24 -26 0\n",
      "-24 -27 0\n",
      "-27 -25 0\n",
      "-27 -26 0\n",
      "-27 -27 0\n",
      "-25 -26 0\n",
      "-25 -27 0\n",
      "-26 -27 0\n",
      "-28 -31 0\n",
      "-28 -34 0\n",
      "-28 -28 0\n",
      "-28 -29 0\n",
      "-28 -30 0\n",
      "-31 -34 0\n",
      "-31 -28 0\n",
      "-31 -29 0\n",
      "-31 -30 0\n",
      "-34 -28 0\n",
      "-34 -29 0\n",
      "-34 -30 0\n",
      "-28 -29 0\n",
      "-28 -30 0\n",
      "-29 -30 0\n",
      "-29 -32 0\n",
      "-29 -35 0\n",
      "-29 -31 0\n",
      "-29 -32 0\n",
      "-29 -33 0\n",
      "-32 -35 0\n",
      "-32 -31 0\n",
      "-32 -32 0\n",
      "-32 -33 0\n",
      "-35 -31 0\n",
      "-35 -32 0\n",
      "-35 -33 0\n",
      "-31 -32 0\n",
      "-31 -33 0\n",
      "-32 -33 0\n",
      "-30 -33 0\n",
      "-30 -36 0\n",
      "-30 -34 0\n",
      "-30 -35 0\n",
      "-30 -36 0\n",
      "-33 -36 0\n",
      "-33 -34 0\n",
      "-33 -35 0\n",
      "-33 -36 0\n",
      "-36 -34 0\n",
      "-36 -35 0\n",
      "-36 -36 0\n",
      "-34 -35 0\n",
      "-34 -36 0\n",
      "-35 -36 0\n",
      "2 11 20 29 0\n",
      "-2 -11 0\n",
      "-2 -20 0\n",
      "-2 -29 0\n",
      "-11 -20 0\n",
      "-11 -29 0\n",
      "-20 -29 0\n",
      "3 12 21 30 0\n",
      "-3 -12 0\n",
      "-3 -21 0\n",
      "-3 -30 0\n",
      "-12 -21 0\n",
      "-12 -30 0\n",
      "-21 -30 0\n",
      "4 13 22 31 0\n",
      "-4 -13 0\n",
      "-4 -22 0\n",
      "-4 -31 0\n",
      "-13 -22 0\n",
      "-13 -31 0\n",
      "-22 -31 0\n",
      "6 15 24 33 0\n",
      "-6 -15 0\n",
      "-6 -24 0\n",
      "-6 -33 0\n",
      "-15 -24 0\n",
      "-15 -33 0\n",
      "-24 -33 0\n",
      "7 16 25 34 0\n",
      "-7 -16 0\n",
      "-7 -25 0\n",
      "-7 -34 0\n",
      "-16 -25 0\n",
      "-16 -34 0\n",
      "-25 -34 0\n",
      "8 17 26 35 0\n",
      "-8 -17 0\n",
      "-8 -26 0\n",
      "-8 -35 0\n",
      "-17 -26 0\n",
      "-17 -35 0\n",
      "-26 -35 0\n",
      "\n"
     ]
    }
   ],
   "source": [
    "# test\n",
    "e=encoder(3,4, 'test.cnf')\n",
    "print(e)"
   ]
  },
  {
   "cell_type": "code",
   "execution_count": 14,
   "id": "b6f1f9a3",
   "metadata": {},
   "outputs": [
    {
     "name": "stdout",
     "output_type": "stream",
     "text": [
      "nombre de clauses au total : 222\n",
      "nombre de variables au total : 36\n"
     ]
    }
   ],
   "source": [
    "nb_clauses = len(e.split(\"0\\n\"))-1\n",
    "print(f'nombre de clauses au total : {nb_clauses}')\n",
    "nb_variables = nj*(ne**2)\n",
    "print(f'nombre de variables au total : {nb_variables}')"
   ]
  },
  {
   "cell_type": "markdown",
   "id": "c938c26a",
   "metadata": {},
   "source": [
    "# Question 3"
   ]
  },
  {
   "cell_type": "markdown",
   "id": "e597b352",
   "metadata": {},
   "source": [
    "Le fichier est enregistré dans le dossier simp\n",
    "On lance la commande: glucose_static -model SAT_36_222.cnf\n",
    "Le solveur indique que le problème est insatisfiable. Cette réponse était attendue en effet pour satisfaire les contraintes il aurait fallu au moins 6 jours."
   ]
  },
  {
   "cell_type": "markdown",
   "id": "bbabfa09",
   "metadata": {},
   "source": [
    "# Question 4"
   ]
  },
  {
   "cell_type": "markdown",
   "id": "91e6c336",
   "metadata": {},
   "source": [
    "Ecrire une fonction ou un programme decoder qui prend pour argument un fichier contenant la sortie de l’appel à glucose (plus éventuellement nj et ne) et qui traduit le modèle rendu en une solution du problème de planning des matchs affichée lisiblement. On peut faire appel a un fichier extérieur donnant le nom des équipes : une par ligne dans leur ordre de numérotation.\n",
    "\n",
    "Tout d'abord rediriger la sortie en ligne de commande :<br>\n",
    "glucose_static -model SAT_nbvar_nbclauses.cnf new_file"
   ]
  },
  {
   "cell_type": "code",
   "execution_count": 15,
   "id": "fa9d774f",
   "metadata": {},
   "outputs": [],
   "source": [
    "def decoder(ne, nj, entre, affiche=True,equipe = None ):\n",
    "    with  open(entre, 'r') as fp:\n",
    "        resultat=fp.readline()\n",
    "        if resultat=='UNSAT\\n':\n",
    "            if affiche :\n",
    "                print(\"Insatisfiable\")\n",
    "            return False\n",
    "        \n",
    "        resultat=resultat.split(' ')\n",
    "        code = [int(k) for k in resultat]\n",
    "    \n",
    "    if affiche:\n",
    "        jour = -1\n",
    "        for k in code: \n",
    "            if k > 0:\n",
    "                j,x,y = decodage(k,ne)\n",
    "                if j != jour:\n",
    "                    jour = j\n",
    "                    if j%2 == 0 or j == 0:\n",
    "                        print(f\"Mercredi Semaine {j//2} :\")\n",
    "                    else:                      \n",
    "                        print(f\"Dimanche Semaine {j//2} :\")\n",
    "                \n",
    "                if equipe == None or equipe == [] or len(equipe) != ne:\n",
    "                    print(f\"\\tEquipe {x} contre Equipe {y}\")\n",
    "                else:\n",
    "                    print(f\"\\t{equipe[x]} contre {equipe[y]}\")\n",
    "                \n",
    "    return True"
   ]
  },
  {
   "cell_type": "markdown",
   "id": "ab4bfd26",
   "metadata": {},
   "source": [
    "# Question 5"
   ]
  },
  {
   "cell_type": "code",
   "execution_count": 17,
   "id": "e8f0b3d8",
   "metadata": {},
   "outputs": [],
   "source": [
    "def planning(ne, nj,equipe=None, affiche=True, timeout=None) :\n",
    "    ##encodage\n",
    "    nv=nj*ne**2 #nombre de var\n",
    "    nc=ne*(ne-1) * (nj*(nj-1)//2+1)  +  ne*nj * 2*ne*(2*ne-1)//2 #nombre de contraintes\n",
    "    encoder(ne,nj,'systeme.cnf')\n",
    "    \n",
    "    ##execution du solveur\n",
    "    try : \n",
    "        subprocess.run(\"./glucose_static systeme.cnf sortie\",timeout=timeout,shell=True,stdout=subprocess.DEVNULL)\n",
    "        return decoder (ne, nj, 'sortie',affiche=affiche, equipe=equipe )\n",
    "    except : \n",
    "        if affiche :\n",
    "            print(\"TimeOut\")\n",
    "        return None"
   ]
  },
  {
   "cell_type": "code",
   "execution_count": 18,
   "id": "f456a575",
   "metadata": {
    "scrolled": true
   },
   "outputs": [
    {
     "name": "stdout",
     "output_type": "stream",
     "text": [
      "Mercredi Semaine 0 :\n",
      "\tBayern_munich contre PSG\n",
      "\tManchester_united contre Real_madrid\n",
      "Dimanche Semaine 0 :\n",
      "\tPSG contre Real_madrid\n",
      "\tManchester_united contre Bayern_munich\n",
      "Mercredi Semaine 1 :\n",
      "\tReal_madrid contre PSG\n",
      "\tBayern_munich contre Manchester_united\n",
      "Dimanche Semaine 1 :\n",
      "\tReal_madrid contre Manchester_united\n",
      "\tPSG contre Bayern_munich\n",
      "Mercredi Semaine 2 :\n",
      "\tReal_madrid contre Bayern_munich\n",
      "\tPSG contre Manchester_united\n",
      "Dimanche Semaine 2 :\n",
      "\tBayern_munich contre Real_madrid\n",
      "\tManchester_united contre PSG\n"
     ]
    },
    {
     "data": {
      "text/plain": [
       "True"
      ]
     },
     "execution_count": 18,
     "metadata": {},
     "output_type": "execute_result"
    }
   ],
   "source": [
    "equipe = ['Real_madrid', 'PSG', 'Bayern_munich',\"Manchester_united\"]\n",
    "planning(4,6,equipe, affiche=True,timeout=20)"
   ]
  },
  {
   "cell_type": "code",
   "execution_count": 19,
   "id": "1675f526",
   "metadata": {},
   "outputs": [
    {
     "name": "stdout",
     "output_type": "stream",
     "text": [
      "['AC Ajaccio', 'Angers', 'Auxerre', 'Brest', 'Clermont', 'Lens', 'Lille', 'Lorient', 'Lyon', 'Marseille', 'Monaco', 'Montpellier', 'Nantes', 'Nice', 'Paris SG', 'Reims', 'Rennes', 'Strasbourg', 'Toulouse', 'Troyes']\n"
     ]
    }
   ],
   "source": [
    "with open('./ligue_1.txt','r') as f:\n",
    "    equipe = [i[:-1] for i in f.readlines()]\n",
    "print(equipe)"
   ]
  },
  {
   "cell_type": "code",
   "execution_count": 20,
   "id": "010cd186",
   "metadata": {
    "scrolled": true
   },
   "outputs": [
    {
     "name": "stdout",
     "output_type": "stream",
     "text": [
      "Mercredi Semaine 0 :\n",
      "\tAngers contre Brest\n",
      "\tClermont contre Monaco\n",
      "\tLens contre Nantes\n",
      "\tLorient contre Montpellier\n",
      "\tLyon contre Lille\n",
      "\tMarseille contre Paris SG\n",
      "\tReims contre AC Ajaccio\n",
      "\tStrasbourg contre Rennes\n",
      "\tTroyes contre Toulouse\n",
      "Dimanche Semaine 0 :\n",
      "\tAngers contre Monaco\n",
      "\tAuxerre contre Troyes\n",
      "\tBrest contre Toulouse\n",
      "\tLens contre Strasbourg\n",
      "\tLorient contre Clermont\n",
      "\tMarseille contre Lyon\n",
      "\tMontpellier contre AC Ajaccio\n",
      "\tNice contre Rennes\n",
      "\tParis SG contre Reims\n",
      "Mercredi Semaine 1 :\n",
      "\tBrest contre Lyon\n",
      "\tClermont contre Marseille\n",
      "\tLens contre Angers\n",
      "\tMontpellier contre Nantes\n",
      "\tNice contre AC Ajaccio\n",
      "\tParis SG contre Toulouse\n",
      "\tReims contre Lorient\n",
      "\tRennes contre Auxerre\n",
      "\tStrasbourg contre Lille\n",
      "\tTroyes contre Monaco\n",
      "Dimanche Semaine 1 :\n",
      "\tAC Ajaccio contre Toulouse\n",
      "\tAngers contre Lens\n",
      "\tClermont contre Troyes\n",
      "\tLille contre Auxerre\n",
      "\tLyon contre Lorient\n",
      "\tMarseille contre Rennes\n",
      "\tMonaco contre Montpellier\n",
      "\tNantes contre Nice\n",
      "\tReims contre Brest\n",
      "\tStrasbourg contre Paris SG\n",
      "Mercredi Semaine 2 :\n",
      "\tAngers contre Marseille\n",
      "\tAuxerre contre Lorient\n",
      "\tLens contre Clermont\n",
      "\tLille contre Montpellier\n",
      "\tLyon contre Brest\n",
      "\tNantes contre AC Ajaccio\n",
      "\tNice contre Strasbourg\n",
      "\tReims contre Troyes\n",
      "\tToulouse contre Paris SG\n",
      "Dimanche Semaine 2 :\n",
      "\tAC Ajaccio contre Nice\n",
      "\tAngers contre Strasbourg\n",
      "\tClermont contre Auxerre\n",
      "\tLorient contre Reims\n",
      "\tLyon contre Lens\n",
      "\tMarseille contre Nantes\n",
      "\tMontpellier contre Brest\n",
      "\tParis SG contre Troyes\n",
      "\tRennes contre Monaco\n",
      "\tToulouse contre Lille\n",
      "Mercredi Semaine 3 :\n",
      "\tAC Ajaccio contre Clermont\n",
      "\tAuxerre contre Lyon\n",
      "\tLens contre Brest\n",
      "\tLille contre Reims\n",
      "\tMarseille contre Lorient\n",
      "\tNantes contre Rennes\n",
      "\tParis SG contre Nice\n",
      "\tStrasbourg contre Monaco\n",
      "\tToulouse contre Angers\n",
      "\tTroyes contre Montpellier\n",
      "Dimanche Semaine 3 :\n",
      "\tAC Ajaccio contre Monaco\n",
      "\tAngers contre Montpellier\n",
      "\tAuxerre contre Paris SG\n",
      "\tLens contre Marseille\n",
      "\tNantes contre Lorient\n",
      "\tReims contre Clermont\n",
      "\tRennes contre Lyon\n",
      "\tStrasbourg contre Brest\n",
      "\tToulouse contre Troyes\n",
      "Mercredi Semaine 4 :\n",
      "\tAC Ajaccio contre Troyes\n",
      "\tAuxerre contre Strasbourg\n",
      "\tLille contre Brest\n",
      "\tLorient contre Lens\n",
      "\tLyon contre Reims\n",
      "\tMonaco contre Clermont\n",
      "\tNantes contre Marseille\n",
      "\tNice contre Toulouse\n",
      "\tParis SG contre Montpellier\n",
      "\tRennes contre Angers\n",
      "Dimanche Semaine 4 :\n",
      "\tAC Ajaccio contre Lens\n",
      "\tAuxerre contre Nice\n",
      "\tBrest contre Rennes\n",
      "\tClermont contre Toulouse\n",
      "\tLille contre Monaco\n",
      "\tLorient contre Paris SG\n",
      "\tLyon contre Troyes\n",
      "\tMontpellier contre Strasbourg\n",
      "\tNantes contre Angers\n",
      "\tReims contre Marseille\n",
      "Mercredi Semaine 5 :\n",
      "\tAC Ajaccio contre Strasbourg\n",
      "\tAngers contre Nantes\n",
      "\tLens contre Reims\n",
      "\tLyon contre Paris SG\n",
      "\tMarseille contre Clermont\n",
      "\tMonaco contre Auxerre\n",
      "\tMontpellier contre Rennes\n",
      "\tNice contre Lille\n",
      "\tToulouse contre Brest\n",
      "\tTroyes contre Lorient\n",
      "Dimanche Semaine 5 :\n",
      "\tAC Ajaccio contre Paris SG\n",
      "\tLens contre Lyon\n",
      "\tMarseille contre Strasbourg\n",
      "\tMonaco contre Troyes\n",
      "\tMontpellier contre Clermont\n",
      "\tNantes contre Lille\n",
      "\tNice contre Auxerre\n",
      "\tReims contre Toulouse\n",
      "\tRennes contre Lorient\n",
      "Mercredi Semaine 6 :\n",
      "\tAC Ajaccio contre Rennes\n",
      "\tClermont contre Brest\n",
      "\tLille contre Marseille\n",
      "\tLyon contre Angers\n",
      "\tMonaco contre Reims\n",
      "\tNice contre Montpellier\n",
      "\tParis SG contre Auxerre\n",
      "\tStrasbourg contre Lorient\n",
      "\tToulouse contre Nantes\n",
      "\tTroyes contre Lens\n",
      "Dimanche Semaine 6 :\n",
      "\tAngers contre Auxerre\n",
      "\tBrest contre Nice\n",
      "\tClermont contre AC Ajaccio\n",
      "\tLens contre Rennes\n",
      "\tMonaco contre Lorient\n",
      "\tMontpellier contre Lyon\n",
      "\tNantes contre Toulouse\n",
      "\tParis SG contre Marseille\n",
      "\tReims contre Lille\n",
      "\tStrasbourg contre Troyes\n",
      "Mercredi Semaine 7 :\n",
      "\tAuxerre contre Nantes\n",
      "\tBrest contre Lorient\n",
      "\tLille contre Lens\n",
      "\tLyon contre Marseille\n",
      "\tMonaco contre Nice\n",
      "\tReims contre Paris SG\n",
      "\tRennes contre Montpellier\n",
      "\tStrasbourg contre Angers\n",
      "\tToulouse contre AC Ajaccio\n",
      "\tTroyes contre Clermont\n",
      "Dimanche Semaine 7 :\n",
      "\tAC Ajaccio contre Brest\n",
      "\tAuxerre contre Angers\n",
      "\tLens contre Paris SG\n",
      "\tLille contre Clermont\n",
      "\tLorient contre Monaco\n",
      "\tMarseille contre Montpellier\n",
      "\tNantes contre Troyes\n",
      "\tReims contre Nice\n",
      "\tStrasbourg contre Lyon\n",
      "\tToulouse contre Rennes\n",
      "Mercredi Semaine 8 :\n",
      "\tAC Ajaccio contre Marseille\n",
      "\tAngers contre Paris SG\n",
      "\tBrest contre Nantes\n",
      "\tClermont contre Strasbourg\n",
      "\tLille contre Nice\n",
      "\tLorient contre Toulouse\n",
      "\tLyon contre Monaco\n",
      "\tMontpellier contre Lens\n",
      "\tReims contre Auxerre\n",
      "\tTroyes contre Rennes\n",
      "Dimanche Semaine 8 :\n",
      "\tAngers contre Rennes\n",
      "\tAuxerre contre Montpellier\n",
      "\tBrest contre AC Ajaccio\n",
      "\tClermont contre Reims\n",
      "\tLille contre Strasbourg\n",
      "\tLyon contre Nice\n",
      "\tMarseille contre Lens\n",
      "\tMonaco contre Paris SG\n",
      "\tToulouse contre Lorient\n",
      "Mercredi Semaine 9 :\n",
      "\tAC Ajaccio contre Montpellier\n",
      "\tAngers contre Clermont\n",
      "\tLille contre Lyon\n",
      "\tLorient contre Brest\n",
      "\tMonaco contre Lens\n",
      "\tNice contre Paris SG\n",
      "\tReims contre Strasbourg\n",
      "\tRennes contre Marseille\n",
      "\tToulouse contre Auxerre\n",
      "\tTroyes contre Nantes\n",
      "Dimanche Semaine 9 :\n",
      "\tAngers contre AC Ajaccio\n",
      "\tBrest contre Marseille\n",
      "\tClermont contre Nice\n",
      "\tLille contre Lorient\n",
      "\tLyon contre Rennes\n",
      "\tMontpellier contre Paris SG\n",
      "\tNantes contre Auxerre\n",
      "\tToulouse contre Monaco\n",
      "\tTroyes contre Strasbourg\n",
      "Mercredi Semaine 10 :\n",
      "\tAngers contre Lorient\n",
      "\tAuxerre contre Monaco\n",
      "\tClermont contre Lille\n",
      "\tLyon contre AC Ajaccio\n",
      "\tMontpellier contre Nice\n",
      "\tNantes contre Brest\n",
      "\tParis SG contre Rennes\n",
      "\tStrasbourg contre Lens\n",
      "\tTroyes contre Marseille\n",
      "Dimanche Semaine 10 :\n",
      "\tAC Ajaccio contre Auxerre\n",
      "\tAngers contre Lyon\n",
      "\tBrest contre Montpellier\n",
      "\tLens contre Lorient\n",
      "\tLille contre Paris SG\n",
      "\tMonaco contre Rennes\n",
      "\tReims contre Nantes\n",
      "\tStrasbourg contre Clermont\n",
      "\tToulouse contre Nice\n",
      "Mercredi Semaine 11 :\n",
      "\tBrest contre Auxerre\n",
      "\tClermont contre Lorient\n",
      "\tLens contre Lille\n",
      "\tMarseille contre Troyes\n",
      "\tMontpellier contre Reims\n",
      "\tNantes contre Monaco\n",
      "\tParis SG contre Lyon\n",
      "\tRennes contre AC Ajaccio\n",
      "\tStrasbourg contre Nice\n",
      "Dimanche Semaine 11 :\n",
      "\tAC Ajaccio contre Nantes\n",
      "\tBrest contre Troyes\n",
      "\tClermont contre Lyon\n",
      "\tLens contre Monaco\n",
      "\tLorient contre Lille\n",
      "\tParis SG contre Angers\n",
      "\tRennes contre Nice\n",
      "\tStrasbourg contre Marseille\n",
      "\tToulouse contre Reims\n",
      "Mercredi Semaine 12 :\n",
      "\tAC Ajaccio contre Lille\n",
      "\tBrest contre Angers\n",
      "\tLens contre Montpellier\n",
      "\tLorient contre Auxerre\n",
      "\tMarseille contre Toulouse\n",
      "\tNantes contre Strasbourg\n",
      "\tNice contre Reims\n",
      "\tParis SG contre Monaco\n",
      "\tTroyes contre Lyon\n",
      "Dimanche Semaine 12 :\n",
      "\tAngers contre Lille\n",
      "\tBrest contre Reims\n",
      "\tClermont contre Montpellier\n",
      "\tLens contre Troyes\n",
      "\tLorient contre AC Ajaccio\n",
      "\tLyon contre Auxerre\n",
      "\tMonaco contre Nantes\n",
      "\tNice contre Marseille\n",
      "\tRennes contre Toulouse\n",
      "Mercredi Semaine 13 :\n",
      "\tAuxerre contre Marseille\n",
      "\tLille contre Angers\n",
      "\tLyon contre Strasbourg\n",
      "\tMonaco contre Toulouse\n",
      "\tNantes contre Reims\n",
      "\tNice contre Lens\n",
      "\tParis SG contre AC Ajaccio\n",
      "\tRennes contre Clermont\n",
      "\tTroyes contre Brest\n",
      "Dimanche Semaine 13 :\n",
      "\tAuxerre contre Brest\n",
      "\tClermont contre Angers\n",
      "\tLille contre Rennes\n",
      "\tLorient contre Nantes\n",
      "\tMonaco contre AC Ajaccio\n",
      "\tMontpellier contre Marseille\n",
      "\tNice contre Troyes\n",
      "\tParis SG contre Strasbourg\n",
      "\tReims contre Lyon\n",
      "\tToulouse contre Lens\n",
      "Mercredi Semaine 14 :\n",
      "\tAC Ajaccio contre Reims\n",
      "\tAngers contre Troyes\n",
      "\tAuxerre contre Rennes\n",
      "\tMarseille contre Nice\n",
      "\tMonaco contre Brest\n",
      "\tMontpellier contre Lorient\n",
      "\tNantes contre Clermont\n",
      "\tParis SG contre Lille\n",
      "\tStrasbourg contre Toulouse\n",
      "Dimanche Semaine 14 :\n",
      "\tAuxerre contre Lens\n",
      "\tLille contre Toulouse\n",
      "\tLorient contre Lyon\n",
      "\tMarseille contre Monaco\n",
      "\tNantes contre Montpellier\n",
      "\tReims contre Angers\n",
      "\tRennes contre Paris SG\n",
      "\tStrasbourg contre AC Ajaccio\n",
      "\tTroyes contre Nice\n",
      "Mercredi Semaine 15 :\n",
      "\tAC Ajaccio contre Lorient\n",
      "\tClermont contre Rennes\n",
      "\tLens contre Auxerre\n",
      "\tLyon contre Toulouse\n",
      "\tMarseille contre Lille\n",
      "\tMonaco contre Angers\n",
      "\tMontpellier contre Troyes\n",
      "\tNice contre Brest\n",
      "\tParis SG contre Nantes\n",
      "\tStrasbourg contre Reims\n",
      "Dimanche Semaine 15 :\n",
      "\tAuxerre contre Clermont\n",
      "\tBrest contre Paris SG\n",
      "\tLens contre Nice\n",
      "\tLorient contre Angers\n",
      "\tLyon contre Nantes\n",
      "\tMarseille contre Reims\n",
      "\tMonaco contre Lille\n",
      "\tMontpellier contre Toulouse\n",
      "\tRennes contre Troyes\n",
      "Mercredi Semaine 16 :\n",
      "\tAC Ajaccio contre Lyon\n",
      "\tAuxerre contre Toulouse\n",
      "\tBrest contre Lille\n",
      "\tClermont contre Lens\n",
      "\tLorient contre Marseille\n",
      "\tNantes contre Paris SG\n",
      "\tNice contre Monaco\n",
      "\tReims contre Rennes\n",
      "\tStrasbourg contre Montpellier\n",
      "\tTroyes contre Angers\n",
      "Dimanche Semaine 16 :\n",
      "\tAngers contre Nice\n",
      "\tAuxerre contre AC Ajaccio\n",
      "\tBrest contre Strasbourg\n",
      "\tClermont contre Paris SG\n",
      "\tLorient contre Troyes\n",
      "\tMonaco contre Marseille\n",
      "\tNantes contre Lyon\n",
      "\tReims contre Lens\n",
      "\tRennes contre Lille\n",
      "\tToulouse contre Montpellier\n",
      "Mercredi Semaine 17 :\n",
      "\tBrest contre Clermont\n",
      "\tLens contre AC Ajaccio\n",
      "\tMarseille contre Angers\n",
      "\tMontpellier contre Lille\n",
      "\tNice contre Nantes\n",
      "\tParis SG contre Lorient\n",
      "\tReims contre Monaco\n",
      "\tRennes contre Strasbourg\n",
      "\tToulouse contre Lyon\n",
      "\tTroyes contre Auxerre\n",
      "Dimanche Semaine 17 :\n",
      "\tAngers contre Toulouse\n",
      "\tBrest contre Lens\n",
      "\tLille contre Troyes\n",
      "\tLorient contre Strasbourg\n",
      "\tMarseille contre Auxerre\n",
      "\tNice contre Lyon\n",
      "\tParis SG contre Clermont\n",
      "\tReims contre Montpellier\n",
      "\tRennes contre Nantes\n",
      "Mercredi Semaine 18 :\n",
      "\tClermont contre Nantes\n",
      "\tLille contre AC Ajaccio\n",
      "\tLorient contre Rennes\n",
      "\tMarseille contre Brest\n",
      "\tMonaco contre Lyon\n",
      "\tMontpellier contre Auxerre\n",
      "\tNice contre Angers\n",
      "\tParis SG contre Lens\n",
      "\tToulouse contre Strasbourg\n",
      "\tTroyes contre Reims\n",
      "Dimanche Semaine 18 :\n",
      "\tAC Ajaccio contre Angers\n",
      "\tAuxerre contre Reims\n",
      "\tMontpellier contre Monaco\n",
      "\tNice contre Clermont\n",
      "\tParis SG contre Brest\n",
      "\tRennes contre Lens\n",
      "\tStrasbourg contre Nantes\n",
      "\tToulouse contre Marseille\n",
      "\tTroyes contre Lille\n",
      "Mercredi Semaine 19 :\n",
      "\tBrest contre Monaco\n",
      "\tLens contre Toulouse\n",
      "\tLille contre Nantes\n",
      "\tLorient contre Nice\n",
      "\tLyon contre Clermont\n",
      "\tMontpellier contre Angers\n",
      "\tRennes contre Reims\n",
      "\tStrasbourg contre Auxerre\n",
      "\tTroyes contre AC Ajaccio\n",
      "Dimanche Semaine 19 :\n",
      "\tAngers contre Reims\n",
      "\tAuxerre contre Lille\n",
      "\tLyon contre Montpellier\n",
      "\tMarseille contre AC Ajaccio\n",
      "\tMonaco contre Strasbourg\n",
      "\tNantes contre Lens\n",
      "\tNice contre Lorient\n",
      "\tRennes contre Brest\n",
      "\tToulouse contre Clermont\n",
      "\tTroyes contre Paris SG\n"
     ]
    },
    {
     "data": {
      "text/plain": [
       "True"
      ]
     },
     "execution_count": 20,
     "metadata": {},
     "output_type": "execute_result"
    }
   ],
   "source": [
    "planning(20,40,equipe,affiche=True,timeout=10)"
   ]
  },
  {
   "cell_type": "markdown",
   "id": "946c6518",
   "metadata": {},
   "source": [
    "# Exercice 4"
   ]
  },
  {
   "cell_type": "code",
   "execution_count": 25,
   "id": "c333968c",
   "metadata": {},
   "outputs": [],
   "source": [
    "def borne_min(ne,timeout=10) :\n",
    "    nj=0\n",
    "    plan = False\n",
    "    while plan == False :\n",
    "        nj+=1\n",
    "        plan = planning(ne, nj, equipe =None,affiche=False, timeout=timeout)\n",
    "        if plan == None :\n",
    "            return None\n",
    "    return nj"
   ]
  },
  {
   "cell_type": "code",
   "execution_count": 28,
   "id": "83e505c1",
   "metadata": {},
   "outputs": [
    {
     "name": "stdout",
     "output_type": "stream",
     "text": [
      "ne:3,nj:6\n",
      "ne:4,nj:6\n",
      "ne:5,nj:None\n",
      "ne:6,nj:None\n",
      "ne:7,nj:None\n",
      "ne:8,nj:None\n",
      "ne:9,nj:None\n",
      "ne:10,nj:None\n"
     ]
    }
   ],
   "source": [
    "for ne in range(3,11):\n",
    "    nj = borne_min(ne,10)\n",
    "    print(f'ne:{ne},nj:{nj}')"
   ]
  },
  {
   "cell_type": "code",
   "execution_count": null,
   "id": "59b36b45",
   "metadata": {},
   "outputs": [],
   "source": []
  }
 ],
 "metadata": {
  "kernelspec": {
   "display_name": "Python 3 (ipykernel)",
   "language": "python",
   "name": "python3"
  },
  "language_info": {
   "codemirror_mode": {
    "name": "ipython",
    "version": 3
   },
   "file_extension": ".py",
   "mimetype": "text/x-python",
   "name": "python",
   "nbconvert_exporter": "python",
   "pygments_lexer": "ipython3",
   "version": "3.10.6"
  }
 },
 "nbformat": 4,
 "nbformat_minor": 5
}
